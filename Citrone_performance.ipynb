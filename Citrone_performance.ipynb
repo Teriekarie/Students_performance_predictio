{
 "cells": [
  {
   "cell_type": "code",
   "execution_count": 6,
   "id": "c278b4d3",
   "metadata": {},
   "outputs": [],
   "source": [
    "# Importing necessary libraries\n",
    "import pandas as pd\n",
    "import numpy as np\n",
    "import seaborn as sns\n",
    "import matplotlib.pyplot as plt\n",
    "%matplotlib inline"
   ]
  },
  {
   "cell_type": "code",
   "execution_count": 7,
   "id": "064b42ab",
   "metadata": {},
   "outputs": [],
   "source": [
    "# Load the Excel file into a Pandas DataFrame\n",
    "df1 = pd.read_excel(\"C:\\\\Users\\\\terre\\\\Downloads\\\\Copy of Citrone Performance overview_id (1).xlsx\", sheet_name='swe')"
   ]
  },
  {
   "cell_type": "code",
   "execution_count": 8,
   "id": "a8bef2cc",
   "metadata": {},
   "outputs": [
    {
     "data": {
      "text/html": [
       "<div>\n",
       "<style scoped>\n",
       "    .dataframe tbody tr th:only-of-type {\n",
       "        vertical-align: middle;\n",
       "    }\n",
       "\n",
       "    .dataframe tbody tr th {\n",
       "        vertical-align: top;\n",
       "    }\n",
       "\n",
       "    .dataframe thead th {\n",
       "        text-align: right;\n",
       "    }\n",
       "</style>\n",
       "<table border=\"1\" class=\"dataframe\">\n",
       "  <thead>\n",
       "    <tr style=\"text-align: right;\">\n",
       "      <th></th>\n",
       "      <th>S/N</th>\n",
       "      <th>Name</th>\n",
       "      <th>Email Address</th>\n",
       "      <th>Lesson Summary</th>\n",
       "      <th>Quiz Summary</th>\n",
       "      <th>Assignment Summary</th>\n",
       "      <th>Grade Point Average</th>\n",
       "      <th>Intermediate class Eligibility</th>\n",
       "    </tr>\n",
       "  </thead>\n",
       "  <tbody>\n",
       "    <tr>\n",
       "      <th>0</th>\n",
       "      <td>1</td>\n",
       "      <td>id_1</td>\n",
       "      <td>NaN</td>\n",
       "      <td>0/5</td>\n",
       "      <td>NaN</td>\n",
       "      <td>0</td>\n",
       "      <td>0.0</td>\n",
       "      <td>No</td>\n",
       "    </tr>\n",
       "    <tr>\n",
       "      <th>1</th>\n",
       "      <td>2</td>\n",
       "      <td>id_2</td>\n",
       "      <td>NaN</td>\n",
       "      <td>2023-05-05 00:00:00</td>\n",
       "      <td>NaN</td>\n",
       "      <td>70</td>\n",
       "      <td>56.0</td>\n",
       "      <td>Yes</td>\n",
       "    </tr>\n",
       "    <tr>\n",
       "      <th>2</th>\n",
       "      <td>3</td>\n",
       "      <td>id_3</td>\n",
       "      <td>NaN</td>\n",
       "      <td>2023-02-05 00:00:00</td>\n",
       "      <td>NaN</td>\n",
       "      <td>80</td>\n",
       "      <td>64.0</td>\n",
       "      <td>Yes</td>\n",
       "    </tr>\n",
       "    <tr>\n",
       "      <th>3</th>\n",
       "      <td>4</td>\n",
       "      <td>id_4</td>\n",
       "      <td>NaN</td>\n",
       "      <td>2023-05-05 00:00:00</td>\n",
       "      <td>NaN</td>\n",
       "      <td>100</td>\n",
       "      <td>80.0</td>\n",
       "      <td>Yes</td>\n",
       "    </tr>\n",
       "    <tr>\n",
       "      <th>4</th>\n",
       "      <td>5</td>\n",
       "      <td>id_5</td>\n",
       "      <td>NaN</td>\n",
       "      <td>2023-06-05 00:00:00</td>\n",
       "      <td>NaN</td>\n",
       "      <td>80</td>\n",
       "      <td>64.0</td>\n",
       "      <td>Yes</td>\n",
       "    </tr>\n",
       "  </tbody>\n",
       "</table>\n",
       "</div>"
      ],
      "text/plain": [
       "   S/N  Name  Email Address       Lesson Summary  Quiz Summary  \\\n",
       "0    1  id_1            NaN                  0/5           NaN   \n",
       "1    2  id_2            NaN  2023-05-05 00:00:00           NaN   \n",
       "2    3  id_3            NaN  2023-02-05 00:00:00           NaN   \n",
       "3    4  id_4            NaN  2023-05-05 00:00:00           NaN   \n",
       "4    5  id_5            NaN  2023-06-05 00:00:00           NaN   \n",
       "\n",
       "   Assignment Summary  Grade Point Average Intermediate class Eligibility  \n",
       "0                   0                  0.0                             No  \n",
       "1                  70                 56.0                            Yes  \n",
       "2                  80                 64.0                            Yes  \n",
       "3                 100                 80.0                            Yes  \n",
       "4                  80                 64.0                            Yes  "
      ]
     },
     "execution_count": 8,
     "metadata": {},
     "output_type": "execute_result"
    }
   ],
   "source": [
    "df1.head()"
   ]
  },
  {
   "cell_type": "code",
   "execution_count": 9,
   "id": "1f388c7b",
   "metadata": {},
   "outputs": [],
   "source": [
    "# Loading the dataset\n",
    "df2 = pd.read_csv(\"C:\\\\Users\\\\terre\\\\Downloads\\\\Students_Performance.csv\")"
   ]
  },
  {
   "cell_type": "code",
   "execution_count": 10,
   "id": "93f0df48",
   "metadata": {},
   "outputs": [
    {
     "data": {
      "text/html": [
       "<div>\n",
       "<style scoped>\n",
       "    .dataframe tbody tr th:only-of-type {\n",
       "        vertical-align: middle;\n",
       "    }\n",
       "\n",
       "    .dataframe tbody tr th {\n",
       "        vertical-align: top;\n",
       "    }\n",
       "\n",
       "    .dataframe thead th {\n",
       "        text-align: right;\n",
       "    }\n",
       "</style>\n",
       "<table border=\"1\" class=\"dataframe\">\n",
       "  <thead>\n",
       "    <tr style=\"text-align: right;\">\n",
       "      <th></th>\n",
       "      <th>gender</th>\n",
       "      <th>race/ethnicity</th>\n",
       "      <th>parental level of education</th>\n",
       "      <th>lunch</th>\n",
       "      <th>test preparation course</th>\n",
       "      <th>math score</th>\n",
       "      <th>reading score</th>\n",
       "      <th>writing score</th>\n",
       "    </tr>\n",
       "  </thead>\n",
       "  <tbody>\n",
       "    <tr>\n",
       "      <th>0</th>\n",
       "      <td>female</td>\n",
       "      <td>group B</td>\n",
       "      <td>bachelor's degree</td>\n",
       "      <td>standard</td>\n",
       "      <td>none</td>\n",
       "      <td>72</td>\n",
       "      <td>72</td>\n",
       "      <td>74</td>\n",
       "    </tr>\n",
       "    <tr>\n",
       "      <th>1</th>\n",
       "      <td>female</td>\n",
       "      <td>group C</td>\n",
       "      <td>some college</td>\n",
       "      <td>standard</td>\n",
       "      <td>completed</td>\n",
       "      <td>69</td>\n",
       "      <td>90</td>\n",
       "      <td>88</td>\n",
       "    </tr>\n",
       "    <tr>\n",
       "      <th>2</th>\n",
       "      <td>female</td>\n",
       "      <td>group B</td>\n",
       "      <td>master's degree</td>\n",
       "      <td>standard</td>\n",
       "      <td>none</td>\n",
       "      <td>90</td>\n",
       "      <td>95</td>\n",
       "      <td>93</td>\n",
       "    </tr>\n",
       "    <tr>\n",
       "      <th>3</th>\n",
       "      <td>male</td>\n",
       "      <td>group A</td>\n",
       "      <td>associate's degree</td>\n",
       "      <td>free/reduced</td>\n",
       "      <td>none</td>\n",
       "      <td>47</td>\n",
       "      <td>57</td>\n",
       "      <td>44</td>\n",
       "    </tr>\n",
       "    <tr>\n",
       "      <th>4</th>\n",
       "      <td>male</td>\n",
       "      <td>group C</td>\n",
       "      <td>some college</td>\n",
       "      <td>standard</td>\n",
       "      <td>none</td>\n",
       "      <td>76</td>\n",
       "      <td>78</td>\n",
       "      <td>75</td>\n",
       "    </tr>\n",
       "  </tbody>\n",
       "</table>\n",
       "</div>"
      ],
      "text/plain": [
       "   gender race/ethnicity parental level of education         lunch  \\\n",
       "0  female        group B           bachelor's degree      standard   \n",
       "1  female        group C                some college      standard   \n",
       "2  female        group B             master's degree      standard   \n",
       "3    male        group A          associate's degree  free/reduced   \n",
       "4    male        group C                some college      standard   \n",
       "\n",
       "  test preparation course  math score  reading score  writing score  \n",
       "0                    none          72             72             74  \n",
       "1               completed          69             90             88  \n",
       "2                    none          90             95             93  \n",
       "3                    none          47             57             44  \n",
       "4                    none          76             78             75  "
      ]
     },
     "execution_count": 10,
     "metadata": {},
     "output_type": "execute_result"
    }
   ],
   "source": [
    "df2.head()"
   ]
  },
  {
   "cell_type": "code",
   "execution_count": 11,
   "id": "3f5e6f08",
   "metadata": {},
   "outputs": [],
   "source": [
    "# Rename columns and replace whitespaces with underscores\n",
    "df2 = df2.rename(columns={\n",
    "    'gender': 'Gender',\n",
    "    'race/ethnicity': 'Race_ethnicity',\n",
    "    'parental level of education': 'level_of_education',\n",
    "    'lunch': 'Lunch',\n",
    "    'test preparation course': 'Test_preparation_course',\n",
    "    'math score': 'Quiz_summary',\n",
    "    'reading score': 'Assignment_summary',\n",
    "    'writing score': 'Project_summary'\n",
    "})"
   ]
  },
  {
   "cell_type": "code",
   "execution_count": 12,
   "id": "410b31ad",
   "metadata": {},
   "outputs": [
    {
     "data": {
      "text/plain": [
       "Index(['Gender', 'Race_ethnicity', 'level_of_education', 'Lunch',\n",
       "       'Test_preparation_course', 'Quiz_summary', 'Assignment_summary',\n",
       "       'Project_summary'],\n",
       "      dtype='object')"
      ]
     },
     "execution_count": 12,
     "metadata": {},
     "output_type": "execute_result"
    }
   ],
   "source": [
    "df2.columns"
   ]
  },
  {
   "cell_type": "code",
   "execution_count": 13,
   "id": "e8c394dc",
   "metadata": {},
   "outputs": [
    {
     "data": {
      "text/plain": [
       "Index(['S/N', 'Name', 'Email Address', 'Lesson Summary', 'Quiz Summary',\n",
       "       'Assignment Summary', 'Grade Point Average',\n",
       "       'Intermediate class Eligibility'],\n",
       "      dtype='object')"
      ]
     },
     "execution_count": 13,
     "metadata": {},
     "output_type": "execute_result"
    }
   ],
   "source": [
    "df1.columns"
   ]
  },
  {
   "cell_type": "code",
   "execution_count": 14,
   "id": "ae82edd4",
   "metadata": {},
   "outputs": [],
   "source": [
    "# Rename columns and replace whitespaces with underscores\n",
    "df1 = df1.rename(columns={\n",
    "    'Email Address': 'Email_address',\n",
    "    'Lesson Summary': 'Lesson_summary',\n",
    "    'Quiz Summary': 'Quiz_summary',\n",
    "    'Assignment Summary': 'Assignment_summary',\n",
    "    'Grade Point Average': 'Project_summary',\n",
    "    'Intermediate class Eligibility': 'Class_eligibility'\n",
    "})"
   ]
  },
  {
   "cell_type": "code",
   "execution_count": 15,
   "id": "c49776fe",
   "metadata": {},
   "outputs": [
    {
     "data": {
      "text/plain": [
       "Index(['S/N', 'Name', 'Email_address', 'Lesson_summary', 'Quiz_summary',\n",
       "       'Assignment_summary', 'Project_summary', 'Class_eligibility'],\n",
       "      dtype='object')"
      ]
     },
     "execution_count": 15,
     "metadata": {},
     "output_type": "execute_result"
    }
   ],
   "source": [
    "df1.columns"
   ]
  },
  {
   "cell_type": "code",
   "execution_count": 16,
   "id": "bff93361",
   "metadata": {},
   "outputs": [],
   "source": [
    "# join the two dataframes using concat function\n",
    "df = pd.concat([df1, df2], axis=0)"
   ]
  },
  {
   "cell_type": "code",
   "execution_count": 17,
   "id": "96b0b96e",
   "metadata": {},
   "outputs": [
    {
     "data": {
      "text/html": [
       "<div>\n",
       "<style scoped>\n",
       "    .dataframe tbody tr th:only-of-type {\n",
       "        vertical-align: middle;\n",
       "    }\n",
       "\n",
       "    .dataframe tbody tr th {\n",
       "        vertical-align: top;\n",
       "    }\n",
       "\n",
       "    .dataframe thead th {\n",
       "        text-align: right;\n",
       "    }\n",
       "</style>\n",
       "<table border=\"1\" class=\"dataframe\">\n",
       "  <thead>\n",
       "    <tr style=\"text-align: right;\">\n",
       "      <th></th>\n",
       "      <th>S/N</th>\n",
       "      <th>Name</th>\n",
       "      <th>Email_address</th>\n",
       "      <th>Lesson_summary</th>\n",
       "      <th>Quiz_summary</th>\n",
       "      <th>Assignment_summary</th>\n",
       "      <th>Project_summary</th>\n",
       "      <th>Class_eligibility</th>\n",
       "      <th>Gender</th>\n",
       "      <th>Race_ethnicity</th>\n",
       "      <th>level_of_education</th>\n",
       "      <th>Lunch</th>\n",
       "      <th>Test_preparation_course</th>\n",
       "    </tr>\n",
       "  </thead>\n",
       "  <tbody>\n",
       "    <tr>\n",
       "      <th>0</th>\n",
       "      <td>1.0</td>\n",
       "      <td>id_1</td>\n",
       "      <td>NaN</td>\n",
       "      <td>0/5</td>\n",
       "      <td>NaN</td>\n",
       "      <td>0</td>\n",
       "      <td>0.0</td>\n",
       "      <td>No</td>\n",
       "      <td>NaN</td>\n",
       "      <td>NaN</td>\n",
       "      <td>NaN</td>\n",
       "      <td>NaN</td>\n",
       "      <td>NaN</td>\n",
       "    </tr>\n",
       "    <tr>\n",
       "      <th>1</th>\n",
       "      <td>2.0</td>\n",
       "      <td>id_2</td>\n",
       "      <td>NaN</td>\n",
       "      <td>2023-05-05 00:00:00</td>\n",
       "      <td>NaN</td>\n",
       "      <td>70</td>\n",
       "      <td>56.0</td>\n",
       "      <td>Yes</td>\n",
       "      <td>NaN</td>\n",
       "      <td>NaN</td>\n",
       "      <td>NaN</td>\n",
       "      <td>NaN</td>\n",
       "      <td>NaN</td>\n",
       "    </tr>\n",
       "    <tr>\n",
       "      <th>2</th>\n",
       "      <td>3.0</td>\n",
       "      <td>id_3</td>\n",
       "      <td>NaN</td>\n",
       "      <td>2023-02-05 00:00:00</td>\n",
       "      <td>NaN</td>\n",
       "      <td>80</td>\n",
       "      <td>64.0</td>\n",
       "      <td>Yes</td>\n",
       "      <td>NaN</td>\n",
       "      <td>NaN</td>\n",
       "      <td>NaN</td>\n",
       "      <td>NaN</td>\n",
       "      <td>NaN</td>\n",
       "    </tr>\n",
       "    <tr>\n",
       "      <th>3</th>\n",
       "      <td>4.0</td>\n",
       "      <td>id_4</td>\n",
       "      <td>NaN</td>\n",
       "      <td>2023-05-05 00:00:00</td>\n",
       "      <td>NaN</td>\n",
       "      <td>100</td>\n",
       "      <td>80.0</td>\n",
       "      <td>Yes</td>\n",
       "      <td>NaN</td>\n",
       "      <td>NaN</td>\n",
       "      <td>NaN</td>\n",
       "      <td>NaN</td>\n",
       "      <td>NaN</td>\n",
       "    </tr>\n",
       "    <tr>\n",
       "      <th>4</th>\n",
       "      <td>5.0</td>\n",
       "      <td>id_5</td>\n",
       "      <td>NaN</td>\n",
       "      <td>2023-06-05 00:00:00</td>\n",
       "      <td>NaN</td>\n",
       "      <td>80</td>\n",
       "      <td>64.0</td>\n",
       "      <td>Yes</td>\n",
       "      <td>NaN</td>\n",
       "      <td>NaN</td>\n",
       "      <td>NaN</td>\n",
       "      <td>NaN</td>\n",
       "      <td>NaN</td>\n",
       "    </tr>\n",
       "    <tr>\n",
       "      <th>...</th>\n",
       "      <td>...</td>\n",
       "      <td>...</td>\n",
       "      <td>...</td>\n",
       "      <td>...</td>\n",
       "      <td>...</td>\n",
       "      <td>...</td>\n",
       "      <td>...</td>\n",
       "      <td>...</td>\n",
       "      <td>...</td>\n",
       "      <td>...</td>\n",
       "      <td>...</td>\n",
       "      <td>...</td>\n",
       "      <td>...</td>\n",
       "    </tr>\n",
       "    <tr>\n",
       "      <th>995</th>\n",
       "      <td>NaN</td>\n",
       "      <td>NaN</td>\n",
       "      <td>NaN</td>\n",
       "      <td>NaN</td>\n",
       "      <td>88.0</td>\n",
       "      <td>99</td>\n",
       "      <td>95.0</td>\n",
       "      <td>NaN</td>\n",
       "      <td>female</td>\n",
       "      <td>group E</td>\n",
       "      <td>master's degree</td>\n",
       "      <td>standard</td>\n",
       "      <td>completed</td>\n",
       "    </tr>\n",
       "    <tr>\n",
       "      <th>996</th>\n",
       "      <td>NaN</td>\n",
       "      <td>NaN</td>\n",
       "      <td>NaN</td>\n",
       "      <td>NaN</td>\n",
       "      <td>62.0</td>\n",
       "      <td>55</td>\n",
       "      <td>55.0</td>\n",
       "      <td>NaN</td>\n",
       "      <td>male</td>\n",
       "      <td>group C</td>\n",
       "      <td>high school</td>\n",
       "      <td>free/reduced</td>\n",
       "      <td>none</td>\n",
       "    </tr>\n",
       "    <tr>\n",
       "      <th>997</th>\n",
       "      <td>NaN</td>\n",
       "      <td>NaN</td>\n",
       "      <td>NaN</td>\n",
       "      <td>NaN</td>\n",
       "      <td>59.0</td>\n",
       "      <td>71</td>\n",
       "      <td>65.0</td>\n",
       "      <td>NaN</td>\n",
       "      <td>female</td>\n",
       "      <td>group C</td>\n",
       "      <td>high school</td>\n",
       "      <td>free/reduced</td>\n",
       "      <td>completed</td>\n",
       "    </tr>\n",
       "    <tr>\n",
       "      <th>998</th>\n",
       "      <td>NaN</td>\n",
       "      <td>NaN</td>\n",
       "      <td>NaN</td>\n",
       "      <td>NaN</td>\n",
       "      <td>68.0</td>\n",
       "      <td>78</td>\n",
       "      <td>77.0</td>\n",
       "      <td>NaN</td>\n",
       "      <td>female</td>\n",
       "      <td>group D</td>\n",
       "      <td>some college</td>\n",
       "      <td>standard</td>\n",
       "      <td>completed</td>\n",
       "    </tr>\n",
       "    <tr>\n",
       "      <th>999</th>\n",
       "      <td>NaN</td>\n",
       "      <td>NaN</td>\n",
       "      <td>NaN</td>\n",
       "      <td>NaN</td>\n",
       "      <td>77.0</td>\n",
       "      <td>86</td>\n",
       "      <td>86.0</td>\n",
       "      <td>NaN</td>\n",
       "      <td>female</td>\n",
       "      <td>group D</td>\n",
       "      <td>some college</td>\n",
       "      <td>free/reduced</td>\n",
       "      <td>none</td>\n",
       "    </tr>\n",
       "  </tbody>\n",
       "</table>\n",
       "<p>1060 rows × 13 columns</p>\n",
       "</div>"
      ],
      "text/plain": [
       "     S/N  Name  Email_address       Lesson_summary  Quiz_summary  \\\n",
       "0    1.0  id_1            NaN                  0/5           NaN   \n",
       "1    2.0  id_2            NaN  2023-05-05 00:00:00           NaN   \n",
       "2    3.0  id_3            NaN  2023-02-05 00:00:00           NaN   \n",
       "3    4.0  id_4            NaN  2023-05-05 00:00:00           NaN   \n",
       "4    5.0  id_5            NaN  2023-06-05 00:00:00           NaN   \n",
       "..   ...   ...            ...                  ...           ...   \n",
       "995  NaN   NaN            NaN                  NaN          88.0   \n",
       "996  NaN   NaN            NaN                  NaN          62.0   \n",
       "997  NaN   NaN            NaN                  NaN          59.0   \n",
       "998  NaN   NaN            NaN                  NaN          68.0   \n",
       "999  NaN   NaN            NaN                  NaN          77.0   \n",
       "\n",
       "     Assignment_summary  Project_summary Class_eligibility  Gender  \\\n",
       "0                     0              0.0                No     NaN   \n",
       "1                    70             56.0               Yes     NaN   \n",
       "2                    80             64.0               Yes     NaN   \n",
       "3                   100             80.0               Yes     NaN   \n",
       "4                    80             64.0               Yes     NaN   \n",
       "..                  ...              ...               ...     ...   \n",
       "995                  99             95.0               NaN  female   \n",
       "996                  55             55.0               NaN    male   \n",
       "997                  71             65.0               NaN  female   \n",
       "998                  78             77.0               NaN  female   \n",
       "999                  86             86.0               NaN  female   \n",
       "\n",
       "    Race_ethnicity level_of_education         Lunch Test_preparation_course  \n",
       "0              NaN                NaN           NaN                     NaN  \n",
       "1              NaN                NaN           NaN                     NaN  \n",
       "2              NaN                NaN           NaN                     NaN  \n",
       "3              NaN                NaN           NaN                     NaN  \n",
       "4              NaN                NaN           NaN                     NaN  \n",
       "..             ...                ...           ...                     ...  \n",
       "995        group E    master's degree      standard               completed  \n",
       "996        group C        high school  free/reduced                    none  \n",
       "997        group C        high school  free/reduced               completed  \n",
       "998        group D       some college      standard               completed  \n",
       "999        group D       some college  free/reduced                    none  \n",
       "\n",
       "[1060 rows x 13 columns]"
      ]
     },
     "execution_count": 17,
     "metadata": {},
     "output_type": "execute_result"
    }
   ],
   "source": [
    "df"
   ]
  },
  {
   "cell_type": "markdown",
   "id": "fa6e0db0",
   "metadata": {},
   "source": [
    "# Data exploration"
   ]
  },
  {
   "cell_type": "code",
   "execution_count": 18,
   "id": "e25cc3d2",
   "metadata": {},
   "outputs": [
    {
     "name": "stdout",
     "output_type": "stream",
     "text": [
      "Number of rows: 1060\n",
      "Number of columns: 13\n"
     ]
    }
   ],
   "source": [
    "# Checking the number of rows and columns in the dataset\n",
    "print(\"Number of rows:\", df.shape[0])\n",
    "print(\"Number of columns:\", df.shape[1])"
   ]
  },
  {
   "cell_type": "code",
   "execution_count": 19,
   "id": "696b9415",
   "metadata": {},
   "outputs": [
    {
     "data": {
      "text/plain": [
       "Index(['S/N', 'Name', 'Email_address', 'Lesson_summary', 'Quiz_summary',\n",
       "       'Assignment_summary', 'Project_summary', 'Class_eligibility', 'Gender',\n",
       "       'Race_ethnicity', 'level_of_education', 'Lunch',\n",
       "       'Test_preparation_course'],\n",
       "      dtype='object')"
      ]
     },
     "execution_count": 19,
     "metadata": {},
     "output_type": "execute_result"
    }
   ],
   "source": [
    "df.columns"
   ]
  },
  {
   "cell_type": "code",
   "execution_count": 20,
   "id": "66dea69a",
   "metadata": {},
   "outputs": [
    {
     "name": "stdout",
     "output_type": "stream",
     "text": [
      "\n",
      "Data Types:\n",
      "S/N                        float64\n",
      "Name                        object\n",
      "Email_address              float64\n",
      "Lesson_summary              object\n",
      "Quiz_summary               float64\n",
      "Assignment_summary           int64\n",
      "Project_summary            float64\n",
      "Class_eligibility           object\n",
      "Gender                      object\n",
      "Race_ethnicity              object\n",
      "level_of_education          object\n",
      "Lunch                       object\n",
      "Test_preparation_course     object\n",
      "dtype: object\n"
     ]
    }
   ],
   "source": [
    "# Checking the data types of each column\n",
    "print(\"\\nData Types:\")\n",
    "print(df.dtypes)"
   ]
  },
  {
   "cell_type": "code",
   "execution_count": 21,
   "id": "c667a8bd",
   "metadata": {},
   "outputs": [
    {
     "name": "stdout",
     "output_type": "stream",
     "text": [
      "<class 'pandas.core.frame.DataFrame'>\n",
      "Int64Index: 1060 entries, 0 to 999\n",
      "Data columns (total 13 columns):\n",
      " #   Column                   Non-Null Count  Dtype  \n",
      "---  ------                   --------------  -----  \n",
      " 0   S/N                      60 non-null     float64\n",
      " 1   Name                     60 non-null     object \n",
      " 2   Email_address            0 non-null      float64\n",
      " 3   Lesson_summary           60 non-null     object \n",
      " 4   Quiz_summary             1000 non-null   float64\n",
      " 5   Assignment_summary       1060 non-null   int64  \n",
      " 6   Project_summary          1060 non-null   float64\n",
      " 7   Class_eligibility        60 non-null     object \n",
      " 8   Gender                   1000 non-null   object \n",
      " 9   Race_ethnicity           1000 non-null   object \n",
      " 10  level_of_education       1000 non-null   object \n",
      " 11  Lunch                    1000 non-null   object \n",
      " 12  Test_preparation_course  1000 non-null   object \n",
      "dtypes: float64(4), int64(1), object(8)\n",
      "memory usage: 115.9+ KB\n",
      "None\n"
     ]
    }
   ],
   "source": [
    "# Getting a summary of the dataset\n",
    "print(df.info())"
   ]
  },
  {
   "cell_type": "code",
   "execution_count": 22,
   "id": "b4f7f9c7",
   "metadata": {},
   "outputs": [
    {
     "data": {
      "text/html": [
       "<div>\n",
       "<style scoped>\n",
       "    .dataframe tbody tr th:only-of-type {\n",
       "        vertical-align: middle;\n",
       "    }\n",
       "\n",
       "    .dataframe tbody tr th {\n",
       "        vertical-align: top;\n",
       "    }\n",
       "\n",
       "    .dataframe thead th {\n",
       "        text-align: right;\n",
       "    }\n",
       "</style>\n",
       "<table border=\"1\" class=\"dataframe\">\n",
       "  <thead>\n",
       "    <tr style=\"text-align: right;\">\n",
       "      <th></th>\n",
       "      <th>S/N</th>\n",
       "      <th>Name</th>\n",
       "      <th>Email_address</th>\n",
       "      <th>Lesson_summary</th>\n",
       "      <th>Quiz_summary</th>\n",
       "      <th>Assignment_summary</th>\n",
       "      <th>Project_summary</th>\n",
       "      <th>Class_eligibility</th>\n",
       "      <th>Gender</th>\n",
       "      <th>Race_ethnicity</th>\n",
       "      <th>level_of_education</th>\n",
       "      <th>Lunch</th>\n",
       "      <th>Test_preparation_course</th>\n",
       "    </tr>\n",
       "  </thead>\n",
       "  <tbody>\n",
       "    <tr>\n",
       "      <th>0</th>\n",
       "      <td>1.0</td>\n",
       "      <td>id_1</td>\n",
       "      <td>NaN</td>\n",
       "      <td>0/5</td>\n",
       "      <td>NaN</td>\n",
       "      <td>0</td>\n",
       "      <td>0.0</td>\n",
       "      <td>No</td>\n",
       "      <td>NaN</td>\n",
       "      <td>NaN</td>\n",
       "      <td>NaN</td>\n",
       "      <td>NaN</td>\n",
       "      <td>NaN</td>\n",
       "    </tr>\n",
       "    <tr>\n",
       "      <th>1</th>\n",
       "      <td>2.0</td>\n",
       "      <td>id_2</td>\n",
       "      <td>NaN</td>\n",
       "      <td>2023-05-05 00:00:00</td>\n",
       "      <td>NaN</td>\n",
       "      <td>70</td>\n",
       "      <td>56.0</td>\n",
       "      <td>Yes</td>\n",
       "      <td>NaN</td>\n",
       "      <td>NaN</td>\n",
       "      <td>NaN</td>\n",
       "      <td>NaN</td>\n",
       "      <td>NaN</td>\n",
       "    </tr>\n",
       "    <tr>\n",
       "      <th>2</th>\n",
       "      <td>3.0</td>\n",
       "      <td>id_3</td>\n",
       "      <td>NaN</td>\n",
       "      <td>2023-02-05 00:00:00</td>\n",
       "      <td>NaN</td>\n",
       "      <td>80</td>\n",
       "      <td>64.0</td>\n",
       "      <td>Yes</td>\n",
       "      <td>NaN</td>\n",
       "      <td>NaN</td>\n",
       "      <td>NaN</td>\n",
       "      <td>NaN</td>\n",
       "      <td>NaN</td>\n",
       "    </tr>\n",
       "    <tr>\n",
       "      <th>3</th>\n",
       "      <td>4.0</td>\n",
       "      <td>id_4</td>\n",
       "      <td>NaN</td>\n",
       "      <td>2023-05-05 00:00:00</td>\n",
       "      <td>NaN</td>\n",
       "      <td>100</td>\n",
       "      <td>80.0</td>\n",
       "      <td>Yes</td>\n",
       "      <td>NaN</td>\n",
       "      <td>NaN</td>\n",
       "      <td>NaN</td>\n",
       "      <td>NaN</td>\n",
       "      <td>NaN</td>\n",
       "    </tr>\n",
       "    <tr>\n",
       "      <th>4</th>\n",
       "      <td>5.0</td>\n",
       "      <td>id_5</td>\n",
       "      <td>NaN</td>\n",
       "      <td>2023-06-05 00:00:00</td>\n",
       "      <td>NaN</td>\n",
       "      <td>80</td>\n",
       "      <td>64.0</td>\n",
       "      <td>Yes</td>\n",
       "      <td>NaN</td>\n",
       "      <td>NaN</td>\n",
       "      <td>NaN</td>\n",
       "      <td>NaN</td>\n",
       "      <td>NaN</td>\n",
       "    </tr>\n",
       "  </tbody>\n",
       "</table>\n",
       "</div>"
      ],
      "text/plain": [
       "   S/N  Name  Email_address       Lesson_summary  Quiz_summary  \\\n",
       "0  1.0  id_1            NaN                  0/5           NaN   \n",
       "1  2.0  id_2            NaN  2023-05-05 00:00:00           NaN   \n",
       "2  3.0  id_3            NaN  2023-02-05 00:00:00           NaN   \n",
       "3  4.0  id_4            NaN  2023-05-05 00:00:00           NaN   \n",
       "4  5.0  id_5            NaN  2023-06-05 00:00:00           NaN   \n",
       "\n",
       "   Assignment_summary  Project_summary Class_eligibility Gender  \\\n",
       "0                   0              0.0                No    NaN   \n",
       "1                  70             56.0               Yes    NaN   \n",
       "2                  80             64.0               Yes    NaN   \n",
       "3                 100             80.0               Yes    NaN   \n",
       "4                  80             64.0               Yes    NaN   \n",
       "\n",
       "  Race_ethnicity level_of_education Lunch Test_preparation_course  \n",
       "0            NaN                NaN   NaN                     NaN  \n",
       "1            NaN                NaN   NaN                     NaN  \n",
       "2            NaN                NaN   NaN                     NaN  \n",
       "3            NaN                NaN   NaN                     NaN  \n",
       "4            NaN                NaN   NaN                     NaN  "
      ]
     },
     "execution_count": 22,
     "metadata": {},
     "output_type": "execute_result"
    }
   ],
   "source": [
    "df.head()"
   ]
  },
  {
   "cell_type": "markdown",
   "id": "391d51ea",
   "metadata": {},
   "source": [
    "# Data cleaning and Preprocessing"
   ]
  },
  {
   "cell_type": "code",
   "execution_count": 23,
   "id": "42c579c0",
   "metadata": {},
   "outputs": [],
   "source": [
    "# Drop unwanted columns from the DataFrame in place\n",
    "df.drop(['S/N', 'Name', 'Lunch', 'Lesson_summary', 'Email_address'], axis=1, inplace=True)"
   ]
  },
  {
   "cell_type": "code",
   "execution_count": 24,
   "id": "f8ecd7aa",
   "metadata": {},
   "outputs": [
    {
     "data": {
      "text/html": [
       "<div>\n",
       "<style scoped>\n",
       "    .dataframe tbody tr th:only-of-type {\n",
       "        vertical-align: middle;\n",
       "    }\n",
       "\n",
       "    .dataframe tbody tr th {\n",
       "        vertical-align: top;\n",
       "    }\n",
       "\n",
       "    .dataframe thead th {\n",
       "        text-align: right;\n",
       "    }\n",
       "</style>\n",
       "<table border=\"1\" class=\"dataframe\">\n",
       "  <thead>\n",
       "    <tr style=\"text-align: right;\">\n",
       "      <th></th>\n",
       "      <th>Quiz_summary</th>\n",
       "      <th>Assignment_summary</th>\n",
       "      <th>Project_summary</th>\n",
       "      <th>Class_eligibility</th>\n",
       "      <th>Gender</th>\n",
       "      <th>Race_ethnicity</th>\n",
       "      <th>level_of_education</th>\n",
       "      <th>Test_preparation_course</th>\n",
       "    </tr>\n",
       "  </thead>\n",
       "  <tbody>\n",
       "    <tr>\n",
       "      <th>0</th>\n",
       "      <td>NaN</td>\n",
       "      <td>0</td>\n",
       "      <td>0.0</td>\n",
       "      <td>No</td>\n",
       "      <td>NaN</td>\n",
       "      <td>NaN</td>\n",
       "      <td>NaN</td>\n",
       "      <td>NaN</td>\n",
       "    </tr>\n",
       "    <tr>\n",
       "      <th>1</th>\n",
       "      <td>NaN</td>\n",
       "      <td>70</td>\n",
       "      <td>56.0</td>\n",
       "      <td>Yes</td>\n",
       "      <td>NaN</td>\n",
       "      <td>NaN</td>\n",
       "      <td>NaN</td>\n",
       "      <td>NaN</td>\n",
       "    </tr>\n",
       "    <tr>\n",
       "      <th>2</th>\n",
       "      <td>NaN</td>\n",
       "      <td>80</td>\n",
       "      <td>64.0</td>\n",
       "      <td>Yes</td>\n",
       "      <td>NaN</td>\n",
       "      <td>NaN</td>\n",
       "      <td>NaN</td>\n",
       "      <td>NaN</td>\n",
       "    </tr>\n",
       "    <tr>\n",
       "      <th>3</th>\n",
       "      <td>NaN</td>\n",
       "      <td>100</td>\n",
       "      <td>80.0</td>\n",
       "      <td>Yes</td>\n",
       "      <td>NaN</td>\n",
       "      <td>NaN</td>\n",
       "      <td>NaN</td>\n",
       "      <td>NaN</td>\n",
       "    </tr>\n",
       "    <tr>\n",
       "      <th>4</th>\n",
       "      <td>NaN</td>\n",
       "      <td>80</td>\n",
       "      <td>64.0</td>\n",
       "      <td>Yes</td>\n",
       "      <td>NaN</td>\n",
       "      <td>NaN</td>\n",
       "      <td>NaN</td>\n",
       "      <td>NaN</td>\n",
       "    </tr>\n",
       "  </tbody>\n",
       "</table>\n",
       "</div>"
      ],
      "text/plain": [
       "   Quiz_summary  Assignment_summary  Project_summary Class_eligibility Gender  \\\n",
       "0           NaN                   0              0.0                No    NaN   \n",
       "1           NaN                  70             56.0               Yes    NaN   \n",
       "2           NaN                  80             64.0               Yes    NaN   \n",
       "3           NaN                 100             80.0               Yes    NaN   \n",
       "4           NaN                  80             64.0               Yes    NaN   \n",
       "\n",
       "  Race_ethnicity level_of_education Test_preparation_course  \n",
       "0            NaN                NaN                     NaN  \n",
       "1            NaN                NaN                     NaN  \n",
       "2            NaN                NaN                     NaN  \n",
       "3            NaN                NaN                     NaN  \n",
       "4            NaN                NaN                     NaN  "
      ]
     },
     "execution_count": 24,
     "metadata": {},
     "output_type": "execute_result"
    }
   ],
   "source": [
    "df.head()"
   ]
  },
  {
   "cell_type": "code",
   "execution_count": 25,
   "id": "d21e4596",
   "metadata": {},
   "outputs": [
    {
     "name": "stdout",
     "output_type": "stream",
     "text": [
      "Missing Values:\n",
      "Quiz_summary                 60\n",
      "Assignment_summary            0\n",
      "Project_summary               0\n",
      "Class_eligibility          1000\n",
      "Gender                       60\n",
      "Race_ethnicity               60\n",
      "level_of_education           60\n",
      "Test_preparation_course      60\n",
      "dtype: int64\n"
     ]
    }
   ],
   "source": [
    "# Checking for missing values\n",
    "print(\"Missing Values:\")\n",
    "print(df.isnull().sum())"
   ]
  },
  {
   "cell_type": "code",
   "execution_count": 26,
   "id": "d6c2ab9c",
   "metadata": {},
   "outputs": [],
   "source": [
    "# fill in missing Quiz_summary values with the mean score\n",
    "df[\"Quiz_summary\"].fillna(df[\"Quiz_summary\"].mean(), inplace=True)\n",
    "\n",
    "\n",
    "# fill in missing values for Gender, Race_ethnicity, Parental_level_of_education, and Test_preparation_course\n",
    "# with the mode (most frequent value) for each column\n",
    "df[\"Gender\"].fillna(df[\"Gender\"].mode()[0], inplace=True)\n",
    "\n",
    "df[\"Race_ethnicity\"].fillna(df[\"Race_ethnicity\"].mode()[0], inplace=True)\n",
    "\n",
    "df[\"level_of_education\"].fillna(df[\"level_of_education\"].mode()[0], inplace=True)\n",
    "\n",
    "df[\"Test_preparation_course\"].fillna(df[\"Test_preparation_course\"].mode()[0], inplace=True)"
   ]
  },
  {
   "cell_type": "code",
   "execution_count": 27,
   "id": "03b7f827",
   "metadata": {},
   "outputs": [],
   "source": [
    "df[\"Class_eligibility\"].fillna(df[\"Class_eligibility\"].mode()[0], inplace=True)"
   ]
  },
  {
   "cell_type": "code",
   "execution_count": 28,
   "id": "cf4b8ee0",
   "metadata": {},
   "outputs": [
    {
     "data": {
      "text/plain": [
       "Quiz_summary               0\n",
       "Assignment_summary         0\n",
       "Project_summary            0\n",
       "Class_eligibility          0\n",
       "Gender                     0\n",
       "Race_ethnicity             0\n",
       "level_of_education         0\n",
       "Test_preparation_course    0\n",
       "dtype: int64"
      ]
     },
     "execution_count": 28,
     "metadata": {},
     "output_type": "execute_result"
    }
   ],
   "source": [
    "df.isnull().sum()"
   ]
  },
  {
   "cell_type": "code",
   "execution_count": 29,
   "id": "fef7d368",
   "metadata": {},
   "outputs": [
    {
     "data": {
      "text/html": [
       "<div>\n",
       "<style scoped>\n",
       "    .dataframe tbody tr th:only-of-type {\n",
       "        vertical-align: middle;\n",
       "    }\n",
       "\n",
       "    .dataframe tbody tr th {\n",
       "        vertical-align: top;\n",
       "    }\n",
       "\n",
       "    .dataframe thead th {\n",
       "        text-align: right;\n",
       "    }\n",
       "</style>\n",
       "<table border=\"1\" class=\"dataframe\">\n",
       "  <thead>\n",
       "    <tr style=\"text-align: right;\">\n",
       "      <th></th>\n",
       "      <th>Quiz_summary</th>\n",
       "      <th>Assignment_summary</th>\n",
       "      <th>Project_summary</th>\n",
       "      <th>Class_eligibility</th>\n",
       "      <th>Gender</th>\n",
       "      <th>Race_ethnicity</th>\n",
       "      <th>level_of_education</th>\n",
       "      <th>Test_preparation_course</th>\n",
       "    </tr>\n",
       "  </thead>\n",
       "  <tbody>\n",
       "    <tr>\n",
       "      <th>0</th>\n",
       "      <td>66.089</td>\n",
       "      <td>0</td>\n",
       "      <td>0.0</td>\n",
       "      <td>No</td>\n",
       "      <td>female</td>\n",
       "      <td>group C</td>\n",
       "      <td>some college</td>\n",
       "      <td>none</td>\n",
       "    </tr>\n",
       "    <tr>\n",
       "      <th>1</th>\n",
       "      <td>66.089</td>\n",
       "      <td>70</td>\n",
       "      <td>56.0</td>\n",
       "      <td>Yes</td>\n",
       "      <td>female</td>\n",
       "      <td>group C</td>\n",
       "      <td>some college</td>\n",
       "      <td>none</td>\n",
       "    </tr>\n",
       "    <tr>\n",
       "      <th>2</th>\n",
       "      <td>66.089</td>\n",
       "      <td>80</td>\n",
       "      <td>64.0</td>\n",
       "      <td>Yes</td>\n",
       "      <td>female</td>\n",
       "      <td>group C</td>\n",
       "      <td>some college</td>\n",
       "      <td>none</td>\n",
       "    </tr>\n",
       "    <tr>\n",
       "      <th>3</th>\n",
       "      <td>66.089</td>\n",
       "      <td>100</td>\n",
       "      <td>80.0</td>\n",
       "      <td>Yes</td>\n",
       "      <td>female</td>\n",
       "      <td>group C</td>\n",
       "      <td>some college</td>\n",
       "      <td>none</td>\n",
       "    </tr>\n",
       "    <tr>\n",
       "      <th>4</th>\n",
       "      <td>66.089</td>\n",
       "      <td>80</td>\n",
       "      <td>64.0</td>\n",
       "      <td>Yes</td>\n",
       "      <td>female</td>\n",
       "      <td>group C</td>\n",
       "      <td>some college</td>\n",
       "      <td>none</td>\n",
       "    </tr>\n",
       "    <tr>\n",
       "      <th>...</th>\n",
       "      <td>...</td>\n",
       "      <td>...</td>\n",
       "      <td>...</td>\n",
       "      <td>...</td>\n",
       "      <td>...</td>\n",
       "      <td>...</td>\n",
       "      <td>...</td>\n",
       "      <td>...</td>\n",
       "    </tr>\n",
       "    <tr>\n",
       "      <th>995</th>\n",
       "      <td>88.000</td>\n",
       "      <td>99</td>\n",
       "      <td>95.0</td>\n",
       "      <td>Yes</td>\n",
       "      <td>female</td>\n",
       "      <td>group E</td>\n",
       "      <td>master's degree</td>\n",
       "      <td>completed</td>\n",
       "    </tr>\n",
       "    <tr>\n",
       "      <th>996</th>\n",
       "      <td>62.000</td>\n",
       "      <td>55</td>\n",
       "      <td>55.0</td>\n",
       "      <td>Yes</td>\n",
       "      <td>male</td>\n",
       "      <td>group C</td>\n",
       "      <td>high school</td>\n",
       "      <td>none</td>\n",
       "    </tr>\n",
       "    <tr>\n",
       "      <th>997</th>\n",
       "      <td>59.000</td>\n",
       "      <td>71</td>\n",
       "      <td>65.0</td>\n",
       "      <td>Yes</td>\n",
       "      <td>female</td>\n",
       "      <td>group C</td>\n",
       "      <td>high school</td>\n",
       "      <td>completed</td>\n",
       "    </tr>\n",
       "    <tr>\n",
       "      <th>998</th>\n",
       "      <td>68.000</td>\n",
       "      <td>78</td>\n",
       "      <td>77.0</td>\n",
       "      <td>Yes</td>\n",
       "      <td>female</td>\n",
       "      <td>group D</td>\n",
       "      <td>some college</td>\n",
       "      <td>completed</td>\n",
       "    </tr>\n",
       "    <tr>\n",
       "      <th>999</th>\n",
       "      <td>77.000</td>\n",
       "      <td>86</td>\n",
       "      <td>86.0</td>\n",
       "      <td>Yes</td>\n",
       "      <td>female</td>\n",
       "      <td>group D</td>\n",
       "      <td>some college</td>\n",
       "      <td>none</td>\n",
       "    </tr>\n",
       "  </tbody>\n",
       "</table>\n",
       "<p>1060 rows × 8 columns</p>\n",
       "</div>"
      ],
      "text/plain": [
       "     Quiz_summary  Assignment_summary  Project_summary Class_eligibility  \\\n",
       "0          66.089                   0              0.0                No   \n",
       "1          66.089                  70             56.0               Yes   \n",
       "2          66.089                  80             64.0               Yes   \n",
       "3          66.089                 100             80.0               Yes   \n",
       "4          66.089                  80             64.0               Yes   \n",
       "..            ...                 ...              ...               ...   \n",
       "995        88.000                  99             95.0               Yes   \n",
       "996        62.000                  55             55.0               Yes   \n",
       "997        59.000                  71             65.0               Yes   \n",
       "998        68.000                  78             77.0               Yes   \n",
       "999        77.000                  86             86.0               Yes   \n",
       "\n",
       "     Gender Race_ethnicity level_of_education Test_preparation_course  \n",
       "0    female        group C       some college                    none  \n",
       "1    female        group C       some college                    none  \n",
       "2    female        group C       some college                    none  \n",
       "3    female        group C       some college                    none  \n",
       "4    female        group C       some college                    none  \n",
       "..      ...            ...                ...                     ...  \n",
       "995  female        group E    master's degree               completed  \n",
       "996    male        group C        high school                    none  \n",
       "997  female        group C        high school               completed  \n",
       "998  female        group D       some college               completed  \n",
       "999  female        group D       some college                    none  \n",
       "\n",
       "[1060 rows x 8 columns]"
      ]
     },
     "execution_count": 29,
     "metadata": {},
     "output_type": "execute_result"
    }
   ],
   "source": [
    "df"
   ]
  },
  {
   "cell_type": "markdown",
   "id": "4023a2c1",
   "metadata": {},
   "source": [
    "Next, we will create a new column called total_score that will contain the sum of the quiz, Assignment, and project sumaary for each student."
   ]
  },
  {
   "cell_type": "code",
   "execution_count": 30,
   "id": "4eca8eac",
   "metadata": {},
   "outputs": [],
   "source": [
    "# Creating a new column for total score\n",
    "df[\"total_score\"] = df[\"Quiz_summary\"] + df[\"Assignment_summary\"] + df[\"Project_summary\"]\n"
   ]
  },
  {
   "cell_type": "code",
   "execution_count": 31,
   "id": "90012969",
   "metadata": {},
   "outputs": [],
   "source": [
    "# Creating a new column for Grade point average score\n",
    "df[\"Grade_point_avg\"] = df[\"total_score\"] / 3\n"
   ]
  },
  {
   "cell_type": "code",
   "execution_count": 32,
   "id": "3bff5f74",
   "metadata": {
    "scrolled": true
   },
   "outputs": [
    {
     "data": {
      "text/html": [
       "<div>\n",
       "<style scoped>\n",
       "    .dataframe tbody tr th:only-of-type {\n",
       "        vertical-align: middle;\n",
       "    }\n",
       "\n",
       "    .dataframe tbody tr th {\n",
       "        vertical-align: top;\n",
       "    }\n",
       "\n",
       "    .dataframe thead th {\n",
       "        text-align: right;\n",
       "    }\n",
       "</style>\n",
       "<table border=\"1\" class=\"dataframe\">\n",
       "  <thead>\n",
       "    <tr style=\"text-align: right;\">\n",
       "      <th></th>\n",
       "      <th>Quiz_summary</th>\n",
       "      <th>Assignment_summary</th>\n",
       "      <th>Project_summary</th>\n",
       "      <th>Class_eligibility</th>\n",
       "      <th>Gender</th>\n",
       "      <th>Race_ethnicity</th>\n",
       "      <th>level_of_education</th>\n",
       "      <th>Test_preparation_course</th>\n",
       "      <th>total_score</th>\n",
       "      <th>Grade_point_avg</th>\n",
       "    </tr>\n",
       "  </thead>\n",
       "  <tbody>\n",
       "    <tr>\n",
       "      <th>0</th>\n",
       "      <td>66.089</td>\n",
       "      <td>0</td>\n",
       "      <td>0.0</td>\n",
       "      <td>No</td>\n",
       "      <td>female</td>\n",
       "      <td>group C</td>\n",
       "      <td>some college</td>\n",
       "      <td>none</td>\n",
       "      <td>66.089</td>\n",
       "      <td>22.029667</td>\n",
       "    </tr>\n",
       "    <tr>\n",
       "      <th>1</th>\n",
       "      <td>66.089</td>\n",
       "      <td>70</td>\n",
       "      <td>56.0</td>\n",
       "      <td>Yes</td>\n",
       "      <td>female</td>\n",
       "      <td>group C</td>\n",
       "      <td>some college</td>\n",
       "      <td>none</td>\n",
       "      <td>192.089</td>\n",
       "      <td>64.029667</td>\n",
       "    </tr>\n",
       "    <tr>\n",
       "      <th>2</th>\n",
       "      <td>66.089</td>\n",
       "      <td>80</td>\n",
       "      <td>64.0</td>\n",
       "      <td>Yes</td>\n",
       "      <td>female</td>\n",
       "      <td>group C</td>\n",
       "      <td>some college</td>\n",
       "      <td>none</td>\n",
       "      <td>210.089</td>\n",
       "      <td>70.029667</td>\n",
       "    </tr>\n",
       "    <tr>\n",
       "      <th>3</th>\n",
       "      <td>66.089</td>\n",
       "      <td>100</td>\n",
       "      <td>80.0</td>\n",
       "      <td>Yes</td>\n",
       "      <td>female</td>\n",
       "      <td>group C</td>\n",
       "      <td>some college</td>\n",
       "      <td>none</td>\n",
       "      <td>246.089</td>\n",
       "      <td>82.029667</td>\n",
       "    </tr>\n",
       "    <tr>\n",
       "      <th>4</th>\n",
       "      <td>66.089</td>\n",
       "      <td>80</td>\n",
       "      <td>64.0</td>\n",
       "      <td>Yes</td>\n",
       "      <td>female</td>\n",
       "      <td>group C</td>\n",
       "      <td>some college</td>\n",
       "      <td>none</td>\n",
       "      <td>210.089</td>\n",
       "      <td>70.029667</td>\n",
       "    </tr>\n",
       "  </tbody>\n",
       "</table>\n",
       "</div>"
      ],
      "text/plain": [
       "   Quiz_summary  Assignment_summary  Project_summary Class_eligibility  \\\n",
       "0        66.089                   0              0.0                No   \n",
       "1        66.089                  70             56.0               Yes   \n",
       "2        66.089                  80             64.0               Yes   \n",
       "3        66.089                 100             80.0               Yes   \n",
       "4        66.089                  80             64.0               Yes   \n",
       "\n",
       "   Gender Race_ethnicity level_of_education Test_preparation_course  \\\n",
       "0  female        group C       some college                    none   \n",
       "1  female        group C       some college                    none   \n",
       "2  female        group C       some college                    none   \n",
       "3  female        group C       some college                    none   \n",
       "4  female        group C       some college                    none   \n",
       "\n",
       "   total_score  Grade_point_avg  \n",
       "0       66.089        22.029667  \n",
       "1      192.089        64.029667  \n",
       "2      210.089        70.029667  \n",
       "3      246.089        82.029667  \n",
       "4      210.089        70.029667  "
      ]
     },
     "execution_count": 32,
     "metadata": {},
     "output_type": "execute_result"
    }
   ],
   "source": [
    "df.head()"
   ]
  },
  {
   "cell_type": "code",
   "execution_count": 33,
   "id": "ea7ba3dd",
   "metadata": {},
   "outputs": [
    {
     "data": {
      "text/html": [
       "<div>\n",
       "<style scoped>\n",
       "    .dataframe tbody tr th:only-of-type {\n",
       "        vertical-align: middle;\n",
       "    }\n",
       "\n",
       "    .dataframe tbody tr th {\n",
       "        vertical-align: top;\n",
       "    }\n",
       "\n",
       "    .dataframe thead th {\n",
       "        text-align: right;\n",
       "    }\n",
       "</style>\n",
       "<table border=\"1\" class=\"dataframe\">\n",
       "  <thead>\n",
       "    <tr style=\"text-align: right;\">\n",
       "      <th></th>\n",
       "      <th>Quiz_summary</th>\n",
       "      <th>Assignment_summary</th>\n",
       "      <th>Project_summary</th>\n",
       "      <th>Class_eligibility</th>\n",
       "      <th>Gender</th>\n",
       "      <th>Race_ethnicity</th>\n",
       "      <th>level_of_education</th>\n",
       "      <th>Test_preparation_course</th>\n",
       "      <th>total_score</th>\n",
       "      <th>Grade_point_avg</th>\n",
       "    </tr>\n",
       "  </thead>\n",
       "  <tbody>\n",
       "    <tr>\n",
       "      <th>0</th>\n",
       "      <td>66.089</td>\n",
       "      <td>0</td>\n",
       "      <td>0.0</td>\n",
       "      <td>No</td>\n",
       "      <td>female</td>\n",
       "      <td>group C</td>\n",
       "      <td>some college</td>\n",
       "      <td>none</td>\n",
       "      <td>66.089</td>\n",
       "      <td>22.029667</td>\n",
       "    </tr>\n",
       "    <tr>\n",
       "      <th>1</th>\n",
       "      <td>66.089</td>\n",
       "      <td>70</td>\n",
       "      <td>56.0</td>\n",
       "      <td>Yes</td>\n",
       "      <td>female</td>\n",
       "      <td>group C</td>\n",
       "      <td>some college</td>\n",
       "      <td>none</td>\n",
       "      <td>192.089</td>\n",
       "      <td>64.029667</td>\n",
       "    </tr>\n",
       "    <tr>\n",
       "      <th>2</th>\n",
       "      <td>66.089</td>\n",
       "      <td>80</td>\n",
       "      <td>64.0</td>\n",
       "      <td>Yes</td>\n",
       "      <td>female</td>\n",
       "      <td>group C</td>\n",
       "      <td>some college</td>\n",
       "      <td>none</td>\n",
       "      <td>210.089</td>\n",
       "      <td>70.029667</td>\n",
       "    </tr>\n",
       "    <tr>\n",
       "      <th>3</th>\n",
       "      <td>66.089</td>\n",
       "      <td>100</td>\n",
       "      <td>80.0</td>\n",
       "      <td>Yes</td>\n",
       "      <td>female</td>\n",
       "      <td>group C</td>\n",
       "      <td>some college</td>\n",
       "      <td>none</td>\n",
       "      <td>246.089</td>\n",
       "      <td>82.029667</td>\n",
       "    </tr>\n",
       "    <tr>\n",
       "      <th>4</th>\n",
       "      <td>66.089</td>\n",
       "      <td>80</td>\n",
       "      <td>64.0</td>\n",
       "      <td>Yes</td>\n",
       "      <td>female</td>\n",
       "      <td>group C</td>\n",
       "      <td>some college</td>\n",
       "      <td>none</td>\n",
       "      <td>210.089</td>\n",
       "      <td>70.029667</td>\n",
       "    </tr>\n",
       "    <tr>\n",
       "      <th>...</th>\n",
       "      <td>...</td>\n",
       "      <td>...</td>\n",
       "      <td>...</td>\n",
       "      <td>...</td>\n",
       "      <td>...</td>\n",
       "      <td>...</td>\n",
       "      <td>...</td>\n",
       "      <td>...</td>\n",
       "      <td>...</td>\n",
       "      <td>...</td>\n",
       "    </tr>\n",
       "    <tr>\n",
       "      <th>995</th>\n",
       "      <td>88.000</td>\n",
       "      <td>99</td>\n",
       "      <td>95.0</td>\n",
       "      <td>Yes</td>\n",
       "      <td>female</td>\n",
       "      <td>group E</td>\n",
       "      <td>master's degree</td>\n",
       "      <td>completed</td>\n",
       "      <td>282.000</td>\n",
       "      <td>94.000000</td>\n",
       "    </tr>\n",
       "    <tr>\n",
       "      <th>996</th>\n",
       "      <td>62.000</td>\n",
       "      <td>55</td>\n",
       "      <td>55.0</td>\n",
       "      <td>Yes</td>\n",
       "      <td>male</td>\n",
       "      <td>group C</td>\n",
       "      <td>high school</td>\n",
       "      <td>none</td>\n",
       "      <td>172.000</td>\n",
       "      <td>57.333333</td>\n",
       "    </tr>\n",
       "    <tr>\n",
       "      <th>997</th>\n",
       "      <td>59.000</td>\n",
       "      <td>71</td>\n",
       "      <td>65.0</td>\n",
       "      <td>Yes</td>\n",
       "      <td>female</td>\n",
       "      <td>group C</td>\n",
       "      <td>high school</td>\n",
       "      <td>completed</td>\n",
       "      <td>195.000</td>\n",
       "      <td>65.000000</td>\n",
       "    </tr>\n",
       "    <tr>\n",
       "      <th>998</th>\n",
       "      <td>68.000</td>\n",
       "      <td>78</td>\n",
       "      <td>77.0</td>\n",
       "      <td>Yes</td>\n",
       "      <td>female</td>\n",
       "      <td>group D</td>\n",
       "      <td>some college</td>\n",
       "      <td>completed</td>\n",
       "      <td>223.000</td>\n",
       "      <td>74.333333</td>\n",
       "    </tr>\n",
       "    <tr>\n",
       "      <th>999</th>\n",
       "      <td>77.000</td>\n",
       "      <td>86</td>\n",
       "      <td>86.0</td>\n",
       "      <td>Yes</td>\n",
       "      <td>female</td>\n",
       "      <td>group D</td>\n",
       "      <td>some college</td>\n",
       "      <td>none</td>\n",
       "      <td>249.000</td>\n",
       "      <td>83.000000</td>\n",
       "    </tr>\n",
       "  </tbody>\n",
       "</table>\n",
       "<p>1060 rows × 10 columns</p>\n",
       "</div>"
      ],
      "text/plain": [
       "     Quiz_summary  Assignment_summary  Project_summary Class_eligibility  \\\n",
       "0          66.089                   0              0.0                No   \n",
       "1          66.089                  70             56.0               Yes   \n",
       "2          66.089                  80             64.0               Yes   \n",
       "3          66.089                 100             80.0               Yes   \n",
       "4          66.089                  80             64.0               Yes   \n",
       "..            ...                 ...              ...               ...   \n",
       "995        88.000                  99             95.0               Yes   \n",
       "996        62.000                  55             55.0               Yes   \n",
       "997        59.000                  71             65.0               Yes   \n",
       "998        68.000                  78             77.0               Yes   \n",
       "999        77.000                  86             86.0               Yes   \n",
       "\n",
       "     Gender Race_ethnicity level_of_education Test_preparation_course  \\\n",
       "0    female        group C       some college                    none   \n",
       "1    female        group C       some college                    none   \n",
       "2    female        group C       some college                    none   \n",
       "3    female        group C       some college                    none   \n",
       "4    female        group C       some college                    none   \n",
       "..      ...            ...                ...                     ...   \n",
       "995  female        group E    master's degree               completed   \n",
       "996    male        group C        high school                    none   \n",
       "997  female        group C        high school               completed   \n",
       "998  female        group D       some college               completed   \n",
       "999  female        group D       some college                    none   \n",
       "\n",
       "     total_score  Grade_point_avg  \n",
       "0         66.089        22.029667  \n",
       "1        192.089        64.029667  \n",
       "2        210.089        70.029667  \n",
       "3        246.089        82.029667  \n",
       "4        210.089        70.029667  \n",
       "..           ...              ...  \n",
       "995      282.000        94.000000  \n",
       "996      172.000        57.333333  \n",
       "997      195.000        65.000000  \n",
       "998      223.000        74.333333  \n",
       "999      249.000        83.000000  \n",
       "\n",
       "[1060 rows x 10 columns]"
      ]
     },
     "execution_count": 33,
     "metadata": {},
     "output_type": "execute_result"
    }
   ],
   "source": [
    "df"
   ]
  },
  {
   "cell_type": "code",
   "execution_count": 34,
   "id": "e2a23185",
   "metadata": {},
   "outputs": [],
   "source": [
    "#To check if a student is eligible to graduate or not\n",
    "# rework the class eglibility that indicates if the student passed or failed based on the grade point\n",
    "df['Class_eligibility'] = np.where(df['Grade_point_avg']>=65, 'Yes', 'No')"
   ]
  },
  {
   "cell_type": "code",
   "execution_count": 35,
   "id": "358ffd5b",
   "metadata": {},
   "outputs": [
    {
     "data": {
      "text/html": [
       "<div>\n",
       "<style scoped>\n",
       "    .dataframe tbody tr th:only-of-type {\n",
       "        vertical-align: middle;\n",
       "    }\n",
       "\n",
       "    .dataframe tbody tr th {\n",
       "        vertical-align: top;\n",
       "    }\n",
       "\n",
       "    .dataframe thead th {\n",
       "        text-align: right;\n",
       "    }\n",
       "</style>\n",
       "<table border=\"1\" class=\"dataframe\">\n",
       "  <thead>\n",
       "    <tr style=\"text-align: right;\">\n",
       "      <th></th>\n",
       "      <th>Quiz_summary</th>\n",
       "      <th>Assignment_summary</th>\n",
       "      <th>Project_summary</th>\n",
       "      <th>Class_eligibility</th>\n",
       "      <th>Gender</th>\n",
       "      <th>Race_ethnicity</th>\n",
       "      <th>level_of_education</th>\n",
       "      <th>Test_preparation_course</th>\n",
       "      <th>total_score</th>\n",
       "      <th>Grade_point_avg</th>\n",
       "    </tr>\n",
       "  </thead>\n",
       "  <tbody>\n",
       "    <tr>\n",
       "      <th>0</th>\n",
       "      <td>66.089</td>\n",
       "      <td>0</td>\n",
       "      <td>0.0</td>\n",
       "      <td>No</td>\n",
       "      <td>female</td>\n",
       "      <td>group C</td>\n",
       "      <td>some college</td>\n",
       "      <td>none</td>\n",
       "      <td>66.089</td>\n",
       "      <td>22.029667</td>\n",
       "    </tr>\n",
       "    <tr>\n",
       "      <th>1</th>\n",
       "      <td>66.089</td>\n",
       "      <td>70</td>\n",
       "      <td>56.0</td>\n",
       "      <td>No</td>\n",
       "      <td>female</td>\n",
       "      <td>group C</td>\n",
       "      <td>some college</td>\n",
       "      <td>none</td>\n",
       "      <td>192.089</td>\n",
       "      <td>64.029667</td>\n",
       "    </tr>\n",
       "    <tr>\n",
       "      <th>2</th>\n",
       "      <td>66.089</td>\n",
       "      <td>80</td>\n",
       "      <td>64.0</td>\n",
       "      <td>Yes</td>\n",
       "      <td>female</td>\n",
       "      <td>group C</td>\n",
       "      <td>some college</td>\n",
       "      <td>none</td>\n",
       "      <td>210.089</td>\n",
       "      <td>70.029667</td>\n",
       "    </tr>\n",
       "    <tr>\n",
       "      <th>3</th>\n",
       "      <td>66.089</td>\n",
       "      <td>100</td>\n",
       "      <td>80.0</td>\n",
       "      <td>Yes</td>\n",
       "      <td>female</td>\n",
       "      <td>group C</td>\n",
       "      <td>some college</td>\n",
       "      <td>none</td>\n",
       "      <td>246.089</td>\n",
       "      <td>82.029667</td>\n",
       "    </tr>\n",
       "    <tr>\n",
       "      <th>4</th>\n",
       "      <td>66.089</td>\n",
       "      <td>80</td>\n",
       "      <td>64.0</td>\n",
       "      <td>Yes</td>\n",
       "      <td>female</td>\n",
       "      <td>group C</td>\n",
       "      <td>some college</td>\n",
       "      <td>none</td>\n",
       "      <td>210.089</td>\n",
       "      <td>70.029667</td>\n",
       "    </tr>\n",
       "    <tr>\n",
       "      <th>...</th>\n",
       "      <td>...</td>\n",
       "      <td>...</td>\n",
       "      <td>...</td>\n",
       "      <td>...</td>\n",
       "      <td>...</td>\n",
       "      <td>...</td>\n",
       "      <td>...</td>\n",
       "      <td>...</td>\n",
       "      <td>...</td>\n",
       "      <td>...</td>\n",
       "    </tr>\n",
       "    <tr>\n",
       "      <th>995</th>\n",
       "      <td>88.000</td>\n",
       "      <td>99</td>\n",
       "      <td>95.0</td>\n",
       "      <td>Yes</td>\n",
       "      <td>female</td>\n",
       "      <td>group E</td>\n",
       "      <td>master's degree</td>\n",
       "      <td>completed</td>\n",
       "      <td>282.000</td>\n",
       "      <td>94.000000</td>\n",
       "    </tr>\n",
       "    <tr>\n",
       "      <th>996</th>\n",
       "      <td>62.000</td>\n",
       "      <td>55</td>\n",
       "      <td>55.0</td>\n",
       "      <td>No</td>\n",
       "      <td>male</td>\n",
       "      <td>group C</td>\n",
       "      <td>high school</td>\n",
       "      <td>none</td>\n",
       "      <td>172.000</td>\n",
       "      <td>57.333333</td>\n",
       "    </tr>\n",
       "    <tr>\n",
       "      <th>997</th>\n",
       "      <td>59.000</td>\n",
       "      <td>71</td>\n",
       "      <td>65.0</td>\n",
       "      <td>Yes</td>\n",
       "      <td>female</td>\n",
       "      <td>group C</td>\n",
       "      <td>high school</td>\n",
       "      <td>completed</td>\n",
       "      <td>195.000</td>\n",
       "      <td>65.000000</td>\n",
       "    </tr>\n",
       "    <tr>\n",
       "      <th>998</th>\n",
       "      <td>68.000</td>\n",
       "      <td>78</td>\n",
       "      <td>77.0</td>\n",
       "      <td>Yes</td>\n",
       "      <td>female</td>\n",
       "      <td>group D</td>\n",
       "      <td>some college</td>\n",
       "      <td>completed</td>\n",
       "      <td>223.000</td>\n",
       "      <td>74.333333</td>\n",
       "    </tr>\n",
       "    <tr>\n",
       "      <th>999</th>\n",
       "      <td>77.000</td>\n",
       "      <td>86</td>\n",
       "      <td>86.0</td>\n",
       "      <td>Yes</td>\n",
       "      <td>female</td>\n",
       "      <td>group D</td>\n",
       "      <td>some college</td>\n",
       "      <td>none</td>\n",
       "      <td>249.000</td>\n",
       "      <td>83.000000</td>\n",
       "    </tr>\n",
       "  </tbody>\n",
       "</table>\n",
       "<p>1060 rows × 10 columns</p>\n",
       "</div>"
      ],
      "text/plain": [
       "     Quiz_summary  Assignment_summary  Project_summary Class_eligibility  \\\n",
       "0          66.089                   0              0.0                No   \n",
       "1          66.089                  70             56.0                No   \n",
       "2          66.089                  80             64.0               Yes   \n",
       "3          66.089                 100             80.0               Yes   \n",
       "4          66.089                  80             64.0               Yes   \n",
       "..            ...                 ...              ...               ...   \n",
       "995        88.000                  99             95.0               Yes   \n",
       "996        62.000                  55             55.0                No   \n",
       "997        59.000                  71             65.0               Yes   \n",
       "998        68.000                  78             77.0               Yes   \n",
       "999        77.000                  86             86.0               Yes   \n",
       "\n",
       "     Gender Race_ethnicity level_of_education Test_preparation_course  \\\n",
       "0    female        group C       some college                    none   \n",
       "1    female        group C       some college                    none   \n",
       "2    female        group C       some college                    none   \n",
       "3    female        group C       some college                    none   \n",
       "4    female        group C       some college                    none   \n",
       "..      ...            ...                ...                     ...   \n",
       "995  female        group E    master's degree               completed   \n",
       "996    male        group C        high school                    none   \n",
       "997  female        group C        high school               completed   \n",
       "998  female        group D       some college               completed   \n",
       "999  female        group D       some college                    none   \n",
       "\n",
       "     total_score  Grade_point_avg  \n",
       "0         66.089        22.029667  \n",
       "1        192.089        64.029667  \n",
       "2        210.089        70.029667  \n",
       "3        246.089        82.029667  \n",
       "4        210.089        70.029667  \n",
       "..           ...              ...  \n",
       "995      282.000        94.000000  \n",
       "996      172.000        57.333333  \n",
       "997      195.000        65.000000  \n",
       "998      223.000        74.333333  \n",
       "999      249.000        83.000000  \n",
       "\n",
       "[1060 rows x 10 columns]"
      ]
     },
     "execution_count": 35,
     "metadata": {},
     "output_type": "execute_result"
    }
   ],
   "source": [
    "df"
   ]
  },
  {
   "cell_type": "code",
   "execution_count": 36,
   "id": "2faebb54",
   "metadata": {},
   "outputs": [
    {
     "name": "stdout",
     "output_type": "stream",
     "text": [
      "       Quiz_summary  Assignment_summary  Project_summary  total_score  \\\n",
      "count   1060.000000         1060.000000      1060.000000  1060.000000   \n",
      "mean      66.089000           69.021698        67.216226   202.326925   \n",
      "std       14.727268           17.676147        17.337001    45.843278   \n",
      "min        0.000000            0.000000         0.000000    27.000000   \n",
      "25%       57.000000           59.000000        57.000000   174.750000   \n",
      "50%       66.089000           70.000000        69.000000   206.000000   \n",
      "75%       76.000000           81.000000        79.000000   235.000000   \n",
      "max      100.000000          100.000000       100.000000   300.000000   \n",
      "\n",
      "       Grade_point_avg  \n",
      "count      1060.000000  \n",
      "mean         67.442308  \n",
      "std          15.281093  \n",
      "min           9.000000  \n",
      "25%          58.250000  \n",
      "50%          68.666667  \n",
      "75%          78.333333  \n",
      "max         100.000000  \n"
     ]
    }
   ],
   "source": [
    "# Descriptive statistics of the numerical columns\n",
    "print(df.describe())"
   ]
  },
  {
   "cell_type": "code",
   "execution_count": 37,
   "id": "8c4a112a",
   "metadata": {},
   "outputs": [
    {
     "data": {
      "image/png": "[encoded data removed]",
      "text/plain": [
       "<Figure size 640x480 with 2 Axes>"
      ]
     },
     "metadata": {},
     "output_type": "display_data"
    }
   ],
   "source": [
    "# Create a correlation matrix\n",
    "corr = df.corr()\n",
    "\n",
    "# Create a heatmap of the correlation matrix\n",
    "sns.heatmap(corr, annot=True)\n",
    "\n",
    "# Add a title to the plot\n",
    "plt.title('Correlation Matrix Heatmap')\n",
    "\n",
    "# Show the plot\n",
    "plt.show()"
   ]
  },
  {
   "cell_type": "markdown",
   "id": "fa1f96eb",
   "metadata": {},
   "source": [
    "Finally, we will convert the categorical variables to dummy variables using the get_dummies() function."
   ]
  },
  {
   "cell_type": "code",
   "execution_count": 38,
   "id": "56595f78",
   "metadata": {},
   "outputs": [
    {
     "data": {
      "text/plain": [
       "Index(['Quiz_summary', 'Assignment_summary', 'Project_summary',\n",
       "       'Class_eligibility', 'Gender', 'Race_ethnicity', 'level_of_education',\n",
       "       'Test_preparation_course', 'total_score', 'Grade_point_avg'],\n",
       "      dtype='object')"
      ]
     },
     "execution_count": 38,
     "metadata": {},
     "output_type": "execute_result"
    }
   ],
   "source": [
    "df.columns"
   ]
  },
  {
   "cell_type": "markdown",
   "id": "20b125da",
   "metadata": {},
   "source": [
    "# Data Visualization"
   ]
  },
  {
   "cell_type": "code",
   "execution_count": 41,
   "id": "676f6086",
   "metadata": {},
   "outputs": [
    {
     "name": "stdout",
     "output_type": "stream",
     "text": [
      "Yes    640\n",
      "No     420\n",
      "Name: Class_eligibility, dtype: int64\n"
     ]
    }
   ],
   "source": [
    "Class_counts = df['Class_eligibility'].value_counts()\n",
    "print(Class_counts)"
   ]
  },
  {
   "cell_type": "code",
   "execution_count": 42,
   "id": "1605f36d",
   "metadata": {},
   "outputs": [
    {
     "name": "stdout",
     "output_type": "stream",
     "text": [
      "female    578\n",
      "male      482\n",
      "Name: Gender, dtype: int64\n"
     ]
    }
   ],
   "source": [
    "gender_counts = df['Gender'].value_counts()\n",
    "print(gender_counts)"
   ]
  },
  {
   "cell_type": "code",
   "execution_count": 43,
   "id": "9381d3d6",
   "metadata": {},
   "outputs": [
    {
     "name": "stdout",
     "output_type": "stream",
     "text": [
      "group C    379\n",
      "group D    262\n",
      "group B    190\n",
      "group E    140\n",
      "group A     89\n",
      "Name: Race_ethnicity, dtype: int64\n"
     ]
    }
   ],
   "source": [
    "# Count for \"Race_ethnicity\" column\n",
    "race_counts = df['Race_ethnicity'].value_counts()\n",
    "print(race_counts)"
   ]
  },
  {
   "cell_type": "code",
   "execution_count": 44,
   "id": "b2215e9a",
   "metadata": {},
   "outputs": [
    {
     "name": "stdout",
     "output_type": "stream",
     "text": [
      "none         702\n",
      "completed    358\n",
      "Name: Test_preparation_course, dtype: int64\n"
     ]
    }
   ],
   "source": [
    "# Count for \"Test_preparation_course\" column\n",
    "test_prep_counts = df['Test_preparation_course'].value_counts()\n",
    "print(test_prep_counts)"
   ]
  },
  {
   "cell_type": "code",
   "execution_count": 45,
   "id": "ce966b52",
   "metadata": {},
   "outputs": [
    {
     "name": "stdout",
     "output_type": "stream",
     "text": [
      "some college          286\n",
      "associate's degree    222\n",
      "high school           196\n",
      "some high school      179\n",
      "bachelor's degree     118\n",
      "master's degree        59\n",
      "Name: level_of_education, dtype: int64\n"
     ]
    }
   ],
   "source": [
    "# Count for \"Parental_level_of_education\" column\n",
    "parental_counts = df['level_of_education'].value_counts()\n",
    "print(parental_counts)"
   ]
  },
  {
   "cell_type": "code",
   "execution_count": 46,
   "id": "1186c793",
   "metadata": {},
   "outputs": [
    {
     "data": {
      "image/png": "[encoded data removed]",
      "text/plain": [
       "<Figure size 640x480 with 1 Axes>"
      ]
     },
     "metadata": {},
     "output_type": "display_data"
    }
   ],
   "source": [
    "# Count for \"Race_ethnicity\" column\n",
    "race_counts = df['Race_ethnicity'].value_counts()\n",
    "\n",
    "# Create a bar chart of the counts\n",
    "race_counts.plot(kind='bar')\n",
    "\n",
    "# Add labels and title to the chart\n",
    "plt.xlabel('Race/Ethnicity')\n",
    "plt.ylabel('Count')\n",
    "plt.title('Distribution of Race/Ethnicity')\n",
    "\n",
    "# Display the chart\n",
    "plt.show()\n"
   ]
  },
  {
   "cell_type": "code",
   "execution_count": 47,
   "id": "81f30c45",
   "metadata": {},
   "outputs": [
    {
     "data": {
      "image/png": "[encoded data removed]",
      "text/plain": [
       "<Figure size 640x480 with 1 Axes>"
      ]
     },
     "metadata": {},
     "output_type": "display_data"
    }
   ],
   "source": [
    "# Count for \"Parental_level_of_education\" column\n",
    "parental_counts = df['Gender'].value_counts()\n",
    "\n",
    "# Create a pie chart of the counts\n",
    "parental_counts.plot(kind='pie')\n",
    "\n",
    "# Add a title to the chart\n",
    "plt.title('Distribution of Gender')\n",
    "\n",
    "# Display the chart\n",
    "plt.show()"
   ]
  },
  {
   "cell_type": "code",
   "execution_count": 48,
   "id": "1cfd58c0",
   "metadata": {},
   "outputs": [
    {
     "data": {
      "image/png": "[encoded data removed]",
      "text/plain": [
       "<Figure size 640x480 with 1 Axes>"
      ]
     },
     "metadata": {},
     "output_type": "display_data"
    }
   ],
   "source": [
    "# Count for \"Test_preparation_course\" column\n",
    "test_prep_counts = df['Test_preparation_course'].value_counts()\n",
    "\n",
    "# Create a horizontal bar chart of the counts\n",
    "test_prep_counts.plot(kind='barh')\n",
    "\n",
    "# Add labels and title to the chart\n",
    "plt.xlabel('Count')\n",
    "plt.ylabel('Test Preparation Course')\n",
    "plt.title('Distribution of Test Preparation Course')\n",
    "\n",
    "# Display the chart\n",
    "plt.show()"
   ]
  },
  {
   "cell_type": "code",
   "execution_count": 49,
   "id": "eb92ca5c",
   "metadata": {},
   "outputs": [
    {
     "data": {
      "image/png": "[encoded data removed]",
      "text/plain": [
       "<Figure size 640x480 with 1 Axes>"
      ]
     },
     "metadata": {},
     "output_type": "display_data"
    }
   ],
   "source": [
    "# Count for \"Race_ethnicity\" column\n",
    "race_counts = df['Race_ethnicity'].value_counts()\n",
    "\n",
    "# Create a pie chart of the counts\n",
    "plt.pie(race_counts, labels=race_counts.index, autopct='%1.1f%%')\n",
    "\n",
    "# Add a title to the chart\n",
    "plt.title('Distribution of Race/Ethnicity')\n",
    "\n",
    "# Display the chart\n",
    "plt.show()\n"
   ]
  },
  {
   "cell_type": "code",
   "execution_count": 50,
   "id": "bbc704cf",
   "metadata": {},
   "outputs": [
    {
     "data": {
      "image/png": "[encoded data removed]",
      "text/plain": [
       "<Figure size 640x480 with 1 Axes>"
      ]
     },
     "metadata": {},
     "output_type": "display_data"
    }
   ],
   "source": [
    "# Count for \"Parental_level_of_education\" column\n",
    "parental_counts = df['level_of_education'].value_counts()\n",
    "\n",
    "# Create a stacked bar chart of the counts\n",
    "parental_counts.plot(kind='bar', stacked=True)\n",
    "\n",
    "# Add labels and title to the chart\n",
    "plt.xlabel('Parental Level of Education')\n",
    "plt.ylabel('Count')\n",
    "plt.title('Distribution of Parental Level of Education')\n",
    "\n",
    "# Display the chart\n",
    "plt.show()"
   ]
  },
  {
   "cell_type": "code",
   "execution_count": 51,
   "id": "09eafcdd",
   "metadata": {},
   "outputs": [
    {
     "data": {
      "text/plain": [
       "Index(['Quiz_summary', 'Assignment_summary', 'Project_summary',\n",
       "       'Class_eligibility', 'Gender', 'Race_ethnicity', 'level_of_education',\n",
       "       'Test_preparation_course', 'total_score', 'Grade_point_avg'],\n",
       "      dtype='object')"
      ]
     },
     "execution_count": 51,
     "metadata": {},
     "output_type": "execute_result"
    }
   ],
   "source": [
    "df.columns"
   ]
  },
  {
   "cell_type": "code",
   "execution_count": 52,
   "id": "39037155",
   "metadata": {},
   "outputs": [
    {
     "data": {
      "image/png": "[encoded data removed]",
      "text/plain": [
       "<Figure size 1000x600 with 1 Axes>"
      ]
     },
     "metadata": {},
     "output_type": "display_data"
    }
   ],
   "source": [
    "# create a boxplot for each numerical column\n",
    "plt.figure(figsize=(10,6))\n",
    "sns.boxplot(data=df[['Quiz_summary', 'Assignment_summary', 'Project_summary', 'total_score', 'Grade_point_avg']])\n",
    "plt.title(\"Boxplots for numerical columns\")\n",
    "plt.show()\n"
   ]
  },
  {
   "cell_type": "markdown",
   "id": "c7180c42",
   "metadata": {},
   "source": [
    "# Observation\n",
    "\n",
    "Based on the output, it appears that there are some potential outliers in the dataset. The minimum and maximum values for each column can provide some indication of potential outliers.\n",
    "\n",
    "For example, in the \"total_score\" column, the minimum value is 27 and the maximum value is 300. This suggests that there may be some students with very low or very high scores that could be considered outliers.\n",
    "\n",
    "Similarly, in the \"Grade_point_avg\" column, the minimum value is 9 and the maximum value is 100, indicating that there may be some students with unusually low or high grade point averages.\n",
    "\n"
   ]
  },
  {
   "cell_type": "code",
   "execution_count": 54,
   "id": "4fc4d9a0",
   "metadata": {},
   "outputs": [
    {
     "data": {
      "image/png": "[encoded data removed]",
      "text/plain": [
       "<Figure size 640x480 with 1 Axes>"
      ]
     },
     "metadata": {},
     "output_type": "display_data"
    },
    {
     "data": {
      "image/png": "[encoded data removed]",
      "text/plain": [
       "<Figure size 640x480 with 1 Axes>"
      ]
     },
     "metadata": {},
     "output_type": "display_data"
    },
    {
     "data": {
      "image/png": "[encoded data removed]",
      "text/plain": [
       "<Figure size 640x480 with 1 Axes>"
      ]
     },
     "metadata": {},
     "output_type": "display_data"
    },
    {
     "data": {
      "image/png": "[encoded data removed]",
      "text/plain": [
       "<Figure size 640x480 with 1 Axes>"
      ]
     },
     "metadata": {},
     "output_type": "display_data"
    },
    {
     "data": {
      "image/png": "[encoded data removed]",
      "text/plain": [
       "<Figure size 640x480 with 1 Axes>"
      ]
     },
     "metadata": {},
     "output_type": "display_data"
    }
   ],
   "source": [
    "# create a list of numerical columns\n",
    "num_cols = ['Quiz_summary', 'Assignment_summary', 'Project_summary', 'total_score', 'Grade_point_avg']\n",
    "\n",
    "# create histograms for each column\n",
    "for col in num_cols:\n",
    "    df[col].hist()\n",
    "    plt.title(col)\n",
    "    plt.show()\n"
   ]
  },
  {
   "cell_type": "markdown",
   "id": "ad84123a",
   "metadata": {},
   "source": [
    "# observation\n",
    "\n",
    "From the histograms, we can see that the distribution of Quiz_summary, Assignment_summary, Project_summary, and total_score are all roughly normal, with some slight deviations from normality in some areas.\n",
    "\n",
    "For the Grade_point_avg column, we can see that the distribution is bimodal, with peaks around 60 and 80. This suggests that there may be two distinct groups of students in the dataset - one that is performing at a lower level, and one that is performing at a higher level."
   ]
  },
  {
   "cell_type": "code",
   "execution_count": 55,
   "id": "c6d11f6c",
   "metadata": {},
   "outputs": [
    {
     "data": {
      "text/plain": [
       "Index(['Quiz_summary', 'Assignment_summary', 'Project_summary',\n",
       "       'Class_eligibility', 'Gender', 'Race_ethnicity', 'level_of_education',\n",
       "       'Test_preparation_course', 'total_score', 'Grade_point_avg'],\n",
       "      dtype='object')"
      ]
     },
     "execution_count": 55,
     "metadata": {},
     "output_type": "execute_result"
    }
   ],
   "source": [
    "df.columns"
   ]
  },
  {
   "cell_type": "code",
   "execution_count": 77,
   "id": "f0fb2bdb",
   "metadata": {},
   "outputs": [
    {
     "data": {
      "text/html": [
       "<div>\n",
       "<style scoped>\n",
       "    .dataframe tbody tr th:only-of-type {\n",
       "        vertical-align: middle;\n",
       "    }\n",
       "\n",
       "    .dataframe tbody tr th {\n",
       "        vertical-align: top;\n",
       "    }\n",
       "\n",
       "    .dataframe thead th {\n",
       "        text-align: right;\n",
       "    }\n",
       "</style>\n",
       "<table border=\"1\" class=\"dataframe\">\n",
       "  <thead>\n",
       "    <tr style=\"text-align: right;\">\n",
       "      <th></th>\n",
       "      <th>Quiz_summary</th>\n",
       "      <th>Assignment_summary</th>\n",
       "      <th>Project_summary</th>\n",
       "      <th>Class_eligibility</th>\n",
       "      <th>Gender</th>\n",
       "      <th>Race_ethnicity</th>\n",
       "      <th>level_of_education</th>\n",
       "      <th>Test_preparation_course</th>\n",
       "      <th>total_score</th>\n",
       "      <th>Grade_point_avg</th>\n",
       "      <th>Class_eligibilty</th>\n",
       "    </tr>\n",
       "  </thead>\n",
       "  <tbody>\n",
       "    <tr>\n",
       "      <th>0</th>\n",
       "      <td>0.0</td>\n",
       "      <td>-3.906636</td>\n",
       "      <td>-3.878869</td>\n",
       "      <td>No</td>\n",
       "      <td>0</td>\n",
       "      <td>2</td>\n",
       "      <td>4</td>\n",
       "      <td>1</td>\n",
       "      <td>-2.973222</td>\n",
       "      <td>-2.973222</td>\n",
       "      <td>0</td>\n",
       "    </tr>\n",
       "    <tr>\n",
       "      <th>1</th>\n",
       "      <td>0.0</td>\n",
       "      <td>0.055372</td>\n",
       "      <td>-0.647258</td>\n",
       "      <td>No</td>\n",
       "      <td>0</td>\n",
       "      <td>2</td>\n",
       "      <td>4</td>\n",
       "      <td>1</td>\n",
       "      <td>-0.223430</td>\n",
       "      <td>-0.223430</td>\n",
       "      <td>0</td>\n",
       "    </tr>\n",
       "    <tr>\n",
       "      <th>2</th>\n",
       "      <td>0.0</td>\n",
       "      <td>0.621373</td>\n",
       "      <td>-0.185600</td>\n",
       "      <td>Yes</td>\n",
       "      <td>0</td>\n",
       "      <td>2</td>\n",
       "      <td>4</td>\n",
       "      <td>1</td>\n",
       "      <td>0.169398</td>\n",
       "      <td>0.169398</td>\n",
       "      <td>1</td>\n",
       "    </tr>\n",
       "    <tr>\n",
       "      <th>3</th>\n",
       "      <td>0.0</td>\n",
       "      <td>1.753376</td>\n",
       "      <td>0.737717</td>\n",
       "      <td>Yes</td>\n",
       "      <td>0</td>\n",
       "      <td>2</td>\n",
       "      <td>4</td>\n",
       "      <td>1</td>\n",
       "      <td>0.955052</td>\n",
       "      <td>0.955052</td>\n",
       "      <td>1</td>\n",
       "    </tr>\n",
       "    <tr>\n",
       "      <th>4</th>\n",
       "      <td>0.0</td>\n",
       "      <td>0.621373</td>\n",
       "      <td>-0.185600</td>\n",
       "      <td>Yes</td>\n",
       "      <td>0</td>\n",
       "      <td>2</td>\n",
       "      <td>4</td>\n",
       "      <td>1</td>\n",
       "      <td>0.169398</td>\n",
       "      <td>0.169398</td>\n",
       "      <td>1</td>\n",
       "    </tr>\n",
       "  </tbody>\n",
       "</table>\n",
       "</div>"
      ],
      "text/plain": [
       "   Quiz_summary  Assignment_summary  Project_summary Class_eligibility  \\\n",
       "0           0.0           -3.906636        -3.878869                No   \n",
       "1           0.0            0.055372        -0.647258                No   \n",
       "2           0.0            0.621373        -0.185600               Yes   \n",
       "3           0.0            1.753376         0.737717               Yes   \n",
       "4           0.0            0.621373        -0.185600               Yes   \n",
       "\n",
       "   Gender  Race_ethnicity  level_of_education  Test_preparation_course  \\\n",
       "0       0               2                   4                        1   \n",
       "1       0               2                   4                        1   \n",
       "2       0               2                   4                        1   \n",
       "3       0               2                   4                        1   \n",
       "4       0               2                   4                        1   \n",
       "\n",
       "   total_score  Grade_point_avg  Class_eligibilty  \n",
       "0    -2.973222        -2.973222                 0  \n",
       "1    -0.223430        -0.223430                 0  \n",
       "2     0.169398         0.169398                 1  \n",
       "3     0.955052         0.955052                 1  \n",
       "4     0.169398         0.169398                 1  "
      ]
     },
     "execution_count": 77,
     "metadata": {},
     "output_type": "execute_result"
    }
   ],
   "source": [
    "df.head()"
   ]
  },
  {
   "cell_type": "code",
   "execution_count": 56,
   "id": "5d854faa",
   "metadata": {},
   "outputs": [],
   "source": [
    "# Save the updated dataset to a new CSV file\n",
    "df.to_csv('citrone_performance.csv', index=False)"
   ]
  },
  {
   "cell_type": "code",
   "execution_count": 91,
   "id": "0be28389",
   "metadata": {},
   "outputs": [],
   "source": [
    "# Converting categorical variables to dummy variables\n",
    "df = pd.get_dummies(df, columns=[\"Gender\", \"Race_ethnicity\", \"Parental_level_of_education\", \"Test_preparation_course\"])\n"
   ]
  },
  {
   "cell_type": "code",
   "execution_count": 57,
   "id": "50279b87",
   "metadata": {},
   "outputs": [
    {
     "data": {
      "image/png": "[encoded data removed]",
      "text/plain": [
       "<Figure size 640x480 with 2 Axes>"
      ]
     },
     "metadata": {},
     "output_type": "display_data"
    }
   ],
   "source": [
    "# Create a correlation matrix\n",
    "corr = df.corr()\n",
    "\n",
    "# Create a heatmap of the correlation matrix\n",
    "sns.heatmap(corr, annot=True)\n",
    "\n",
    "# Add a title to the plot\n",
    "plt.title('Correlation Matrix Heatmap')\n",
    "\n",
    "# Show the plot\n",
    "plt.show()\n"
   ]
  },
  {
   "cell_type": "markdown",
   "id": "6bd08666",
   "metadata": {},
   "source": [
    "# Machine Learning\n",
    "\n",
    "Alright, let's start with the necessary data preparation steps:\n",
    "\n",
    "Load the data into a Pandas DataFrame.\n",
    "\n",
    "Check for missing values and handle them appropriately.\n",
    "\n",
    "Encode categorical features as numerical.\n",
    "\n",
    "Split the data into training and testing sets.\n",
    "\n",
    "Scale the numerical features."
   ]
  },
  {
   "cell_type": "code",
   "execution_count": 58,
   "id": "1f6cdde5",
   "metadata": {},
   "outputs": [
    {
     "data": {
      "text/plain": [
       "Index(['Quiz_summary', 'Assignment_summary', 'Project_summary',\n",
       "       'Class_eligibility', 'Gender', 'Race_ethnicity', 'level_of_education',\n",
       "       'Test_preparation_course', 'total_score', 'Grade_point_avg'],\n",
       "      dtype='object')"
      ]
     },
     "execution_count": 58,
     "metadata": {},
     "output_type": "execute_result"
    }
   ],
   "source": [
    "df.columns"
   ]
  },
  {
   "cell_type": "code",
   "execution_count": 61,
   "id": "147f5704",
   "metadata": {},
   "outputs": [],
   "source": [
    "# Encode categorical variables\n",
    "\n",
    "from sklearn.preprocessing import LabelEncoder\n",
    "\n",
    "le = LabelEncoder()\n",
    "\n",
    "df['Race_ethnicity'] = le.fit_transform(df['Race_ethnicity'])\n",
    "df['Test_preparation_course'] = le.fit_transform(df['Test_preparation_course'])\n",
    "df['Gender'] = le.fit_transform(df['Gender'])\n",
    "df['Class_eligibilty'] = le.fit_transform(df['Class_eligibility'])\n",
    "df['level_of_education'] = le.fit_transform(df['level_of_education'])"
   ]
  },
  {
   "cell_type": "code",
   "execution_count": 62,
   "id": "28a82b86",
   "metadata": {},
   "outputs": [],
   "source": [
    "# Scale numerical features\n",
    "\n",
    "from sklearn.preprocessing import StandardScaler\n",
    "\n",
    "scaler = StandardScaler()\n",
    "df['Quiz_summary'] = scaler.fit_transform(df[['Quiz_summary']])\n",
    "df['Assignment_summary'] = scaler.fit_transform(df[['Assignment_summary']])\n",
    "df['Project_summary'] = scaler.fit_transform(df[['Project_summary']])\n",
    "df['total_score'] = scaler.fit_transform(df[['total_score']])\n",
    "df['Grade_point_avg'] = scaler.fit_transform(df[['Grade_point_avg']])"
   ]
  },
  {
   "cell_type": "code",
   "execution_count": 63,
   "id": "d068a2e6",
   "metadata": {},
   "outputs": [],
   "source": [
    "# Split the dataset into training and test sets\n",
    "\n",
    "from sklearn.model_selection import train_test_split\n",
    "\n",
    "X = df.drop('Class_eligibility', axis=1)\n",
    "y = df['Class_eligibility']\n",
    "X_train, X_test, y_train, y_test = train_test_split(X, y, test_size=0.2, random_state=42)\n"
   ]
  },
  {
   "cell_type": "markdown",
   "id": "f9287571",
   "metadata": {},
   "source": [
    "Next, we can try out different classification models to see which one performs the best. Here are a few options:\n",
    "\n",
    "Logistic Regression\n",
    "\n",
    "Decision Tree\n",
    "\n",
    "Random Forest\n",
    "\n",
    "Support Vector Machine\n",
    "\n",
    "Here's the code to train and evaluate these models:"
   ]
  },
  {
   "cell_type": "code",
   "execution_count": 64,
   "id": "ba020e48",
   "metadata": {},
   "outputs": [
    {
     "name": "stdout",
     "output_type": "stream",
     "text": [
      "Logistic Regression:\n",
      "Accuracy: 1.0\n",
      "Confusion Matrix:\n",
      " [[ 83   0]\n",
      " [  0 129]]\n",
      "Classification Report:\n",
      "               precision    recall  f1-score   support\n",
      "\n",
      "          No       1.00      1.00      1.00        83\n",
      "         Yes       1.00      1.00      1.00       129\n",
      "\n",
      "    accuracy                           1.00       212\n",
      "   macro avg       1.00      1.00      1.00       212\n",
      "weighted avg       1.00      1.00      1.00       212\n",
      "\n",
      "Decision Tree:\n",
      "Accuracy: 1.0\n",
      "Confusion Matrix:\n",
      " [[ 83   0]\n",
      " [  0 129]]\n",
      "Classification Report:\n",
      "               precision    recall  f1-score   support\n",
      "\n",
      "          No       1.00      1.00      1.00        83\n",
      "         Yes       1.00      1.00      1.00       129\n",
      "\n",
      "    accuracy                           1.00       212\n",
      "   macro avg       1.00      1.00      1.00       212\n",
      "weighted avg       1.00      1.00      1.00       212\n",
      "\n",
      "Random Forest:\n",
      "Accuracy: 1.0\n",
      "Confusion Matrix:\n",
      " [[ 83   0]\n",
      " [  0 129]]\n",
      "Classification Report:\n",
      "               precision    recall  f1-score   support\n",
      "\n",
      "          No       1.00      1.00      1.00        83\n",
      "         Yes       1.00      1.00      1.00       129\n",
      "\n",
      "    accuracy                           1.00       212\n",
      "   macro avg       1.00      1.00      1.00       212\n",
      "weighted avg       1.00      1.00      1.00       212\n",
      "\n",
      "SVM Accuracy:  1.0\n",
      "              precision    recall  f1-score   support\n",
      "\n",
      "          No       1.00      1.00      1.00        83\n",
      "         Yes       1.00      1.00      1.00       129\n",
      "\n",
      "    accuracy                           1.00       212\n",
      "   macro avg       1.00      1.00      1.00       212\n",
      "weighted avg       1.00      1.00      1.00       212\n",
      "\n"
     ]
    }
   ],
   "source": [
    "from sklearn.linear_model import LogisticRegression\n",
    "from sklearn.tree import DecisionTreeClassifier\n",
    "from sklearn.ensemble import RandomForestClassifier\n",
    "from sklearn.svm import SVC\n",
    "from sklearn.metrics import accuracy_score, classification_report\n",
    "from sklearn.metrics import confusion_matrix\n",
    "\n",
    "\n",
    "# Logistic Regression\n",
    "lr = LogisticRegression()\n",
    "lr.fit(X_train, y_train)\n",
    "y_pred_lr = lr.predict(X_test)\n",
    "acc_lr = accuracy_score(y_test, y_pred_lr)\n",
    "print('Logistic Regression:')\n",
    "print('Accuracy:', acc_lr)\n",
    "print('Confusion Matrix:\\n', confusion_matrix(y_test, y_pred_lr))\n",
    "print('Classification Report:\\n', classification_report(y_test, y_pred_lr))\n",
    "\n",
    "# Decision Tree\n",
    "dt = DecisionTreeClassifier()\n",
    "dt.fit(X_train, y_train)\n",
    "y_pred_dt = dt.predict(X_test)\n",
    "acc_dt = accuracy_score(y_test, y_pred_dt)\n",
    "print('Decision Tree:')\n",
    "print('Accuracy:', acc_dt)\n",
    "print('Confusion Matrix:\\n', confusion_matrix(y_test, y_pred_dt))\n",
    "print('Classification Report:\\n', classification_report(y_test, y_pred_dt))\n",
    "\n",
    "# Random Forest\n",
    "rf = RandomForestClassifier()\n",
    "rf.fit(X_train, y_train)\n",
    "y_pred_rf = rf.predict(X_test)\n",
    "acc_rf = accuracy_score(y_test, y_pred_rf)\n",
    "print('Random Forest:')\n",
    "print('Accuracy:', acc_rf)\n",
    "print('Confusion Matrix:\\n', confusion_matrix(y_test, y_pred_rf))\n",
    "print('Classification Report:\\n', classification_report(y_test, y_pred_rf))\n",
    "\n",
    "# Support Vector Machine\n",
    "svm = SVC()\n",
    "svm.fit(X_train, y_train)\n",
    "y_pred = svm.predict(X_test)\n",
    "print('SVM Accuracy: ', accuracy_score(y_test, y_pred))\n",
    "print(classification_report(y_test, y_pred))"
   ]
  },
  {
   "cell_type": "markdown",
   "id": "1cd4eafe",
   "metadata": {},
   "source": [
    "# observation\n",
    "\n",
    "The analysis shows that all the four machine learning models (Logistic Regression, Decision Tree, Random Forest, and SVM) were able to achieve perfect accuracy of 1.0 in predicting whether a student will graduate or not. This indicates that the models were able to capture the patterns and relationships in the dataset very well and were able to make accurate predictions.\n",
    "\n",
    "The confusion matrix and classification report for all the models show that there were no False Positives or False Negatives, which indicates that the models had no errors in their predictions."
   ]
  },
  {
   "cell_type": "markdown",
   "id": "a4c18d3e",
   "metadata": {},
   "source": [
    " further evaluate the models using cross-validation and other techniques to ensure that they are not overfitting and can generalize well to new data."
   ]
  },
  {
   "cell_type": "code",
   "execution_count": 65,
   "id": "f525cfbf",
   "metadata": {},
   "outputs": [
    {
     "name": "stdout",
     "output_type": "stream",
     "text": [
      "Cross-validation scores:\n",
      " [1. 1. 1. 1. 1. 1. 1. 1. 1. 1.]\n",
      "Average accuracy: 1.0\n"
     ]
    }
   ],
   "source": [
    "from sklearn.model_selection import KFold\n",
    "from sklearn.model_selection import cross_val_score\n",
    "\n",
    "# Define the K-fold Cross Validator\n",
    "kfold = KFold(n_splits=10, shuffle=True, random_state=42)\n",
    "# Evaluate the Logistic Regression model using Cross Validation\n",
    "lr_cv_score = cross_val_score(lr, X, y, cv=kfold, scoring='accuracy')\n",
    "print(\"Cross-validation scores:\\n\", lr_cv_score)\n",
    "print(\"Average accuracy:\", lr_cv_score.mean())\n"
   ]
  },
  {
   "cell_type": "code",
   "execution_count": 66,
   "id": "7bfdb78e",
   "metadata": {},
   "outputs": [
    {
     "name": "stdout",
     "output_type": "stream",
     "text": [
      "Cross-validation scores:\n",
      " [1. 1. 1. 1. 1. 1. 1. 1. 1. 1.]\n",
      "Average accuracy: 1.0\n"
     ]
    }
   ],
   "source": [
    "dt_cv_score = cross_val_score(lr, X, y, cv=kfold, scoring='accuracy')\n",
    "print(\"Cross-validation scores:\\n\", dt_cv_score)\n",
    "print(\"Average accuracy:\", dt_cv_score.mean())"
   ]
  },
  {
   "cell_type": "markdown",
   "id": "e87dbfe5",
   "metadata": {},
   "source": [
    "The cross-validation scores of 1.0 mean that the models have achieved perfect accuracy on all the folds of the cross-validation process. This suggests that the models are not overfitting and can generalize well to new data."
   ]
  },
  {
   "cell_type": "code",
   "execution_count": 96,
   "id": "d460f826",
   "metadata": {},
   "outputs": [],
   "source": [
    "import pickle\n",
    "\n",
    "# Save the model as a pickle file\n",
    "with open('model_stu.pkl', 'wb') as file:\n",
    "    pickle.dump(svm, file)\n"
   ]
  },
  {
   "cell_type": "code",
   "execution_count": null,
   "id": "ba1c2dae",
   "metadata": {},
   "outputs": [],
   "source": []
  }
 ],
 "metadata": {
  "kernelspec": {
   "display_name": "Python 3 (ipykernel)",
   "language": "python",
   "name": "python3"
  },
  "language_info": {
   "codemirror_mode": {
    "name": "ipython",
    "version": 3
   },
   "file_extension": ".py",
   "mimetype": "text/x-python",
   "name": "python",
   "nbconvert_exporter": "python",
   "pygments_lexer": "ipython3",
   "version": "3.9.13"
  }
 },
 "nbformat": 4,
 "nbformat_minor": 5
}
